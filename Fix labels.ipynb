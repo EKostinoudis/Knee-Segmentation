{
 "cells": [
  {
   "cell_type": "code",
   "execution_count": null,
   "metadata": {},
   "outputs": [],
   "source": [
    "import os\n",
    "\n",
    "path = \"Dataset/labels\"\n",
    "\n",
    "data = os.listdir(path)\n",
    "\n",
    "import SimpleITK as sitk\n",
    "import numpy as np\n",
    "\n",
    "from pathlib import Path\n",
    "\n",
    "folder = \"labels2\"\n",
    "Path(f\"Dataset/{folder}\").mkdir(parents=True, exist_ok=True)\n",
    "    \n",
    "'''\n",
    "labels\n",
    "1: katw gonato\n",
    "2: katw xondos\n",
    "3: panw gonato\n",
    "4: panw xondros\n",
    "5: panw xondros\n",
    "\n",
    "new labels\n",
    "1: gonato\n",
    "2: katw xondros\n",
    "3: panw xondros\n",
    "\n",
    "new new labels\n",
    "1: gonato\n",
    "2: xondros\n",
    "'''\n",
    "\n",
    "for f in data:\n",
    "    pathName = os.path.join(path, f)\n",
    "    print(\"saving:\", pathName)\n",
    "    \n",
    "    label = sitk.ReadImage(pathName)\n",
    "    \n",
    "    npLabel = sitk.GetArrayFromImage(label)\n",
    "    # npLabel[npLabel == 3] = 1\n",
    "    # npLabel[npLabel == 4] = 3\n",
    "    # npLabel[npLabel == 5] = 3\n",
    "    \n",
    "    npLabel[npLabel == 3] = 2\n",
    "    \n",
    "    newLabel = sitk.GetImageFromArray(npLabel)\n",
    "    newLabel.CopyInformation(label)\n",
    "    \n",
    "    newPathName = os.path.join(f\"Dataset/{folder}\", f)\n",
    "    sitk.WriteImage(newLabel, newPathName)\n",
    "    \n",
    "\n"
   ]
  },
  {
   "cell_type": "code",
   "execution_count": null,
   "metadata": {},
   "outputs": [],
   "source": []
  }
 ],
 "metadata": {
  "kernelspec": {
   "display_name": "Python 3",
   "language": "python",
   "name": "python3"
  },
  "language_info": {
   "codemirror_mode": {
    "name": "ipython",
    "version": 3
   },
   "file_extension": ".py",
   "mimetype": "text/x-python",
   "name": "python",
   "nbconvert_exporter": "python",
   "pygments_lexer": "ipython3",
   "version": "3.6.9"
  }
 },
 "nbformat": 4,
 "nbformat_minor": 2
}
