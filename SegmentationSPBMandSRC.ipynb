{
 "cells": [
  {
   "cell_type": "code",
   "execution_count": null,
   "metadata": {},
   "outputs": [],
   "source": [
    "import os\n",
    "import random\n",
    "from datetime import datetime\n",
    "\n",
    "now = datetime.now()\n",
    "\n",
    "# Folder name to save registration transforms\n",
    "prefix = \"\"\n",
    "\n",
    "# Use 5 fold, else leave one out\n",
    "Use5Fold = False\n",
    "\n",
    "\n",
    "######################################################################\n",
    "resultsFolder = \"results/\" + prefix + now.strftime(\"%Y_%m_%d_%H_%M_%S\")\n",
    "print(\"Results folder name:\", resultsFolder)\n",
    "\n",
    "path = \"./Dataset/data\"\n",
    "labelPath = \"Dataset/labels\"\n",
    "\n",
    "data = os.listdir(path)\n",
    "datasetLen = len(data)\n",
    "\n",
    "# random shuffle data\n",
    "random.shuffle(data)\n",
    "\n",
    "\n",
    "\"\"\"Write transforms.\"\"\"\n",
    "from pathlib import Path\n",
    "\n",
    "\n",
    "try:\n",
    "    Path(f\"./{resultsFolder}\").mkdir(parents=True, exist_ok=True)\n",
    "    print(\"Saving data names.\")\n",
    "    file = open(f\"./{resultsFolder}/data.txt\", \"w\") \n",
    "    for i, name in enumerate(data):\n",
    "        # print(f\"\\tSaving {name}. {i+1}/{len(trainData)}\", end='\\x1b[1K\\r')\n",
    "        # print(f\"\\tSaving {name}. {i+1}/{len(trainData)}\")\n",
    "        file.write(name+\"\\n\")\n",
    "    # print()\n",
    "    file.close()\n",
    "except:\n",
    "    print(\"Can't save names.\")\n",
    "\n",
    "\n",
    "# Fork processes for each test image\n",
    "# Doesn't work on jupyter notebook.\n",
    "# Run it on python.\n",
    "testImageIdx = 0\n",
    "for i in range(1, len(data)):\n",
    "# for i in range(1, 0): # DEBUG \n",
    "    n = os.fork() \n",
    "    if n == 0: \n",
    "        # child\n",
    "        testImageIdx = i\n",
    "        break\n",
    "        \n",
    "# fill trainData\n",
    "if Use5Fold:    \n",
    "    fold = testImageIdx // (len(data)//5)\n",
    "    fold = 4 if fold > 4 else fold\n",
    "\n",
    "    trainData = []\n",
    "    for i in range(len(data)):\n",
    "        index = i // (len(data)//5)\n",
    "        index = 4 if index > 4 else index\n",
    "        if index != fold:\n",
    "            trainData.append(data[i])\n",
    "else:\n",
    "    # leave one out\n",
    "    trainData = []\n",
    "    for i in range(len(data)):\n",
    "        if i != testImageIdx:\n",
    "            trainData.append(data[i])\n",
    "    \n",
    "\n",
    "resultsFolder += f\"/{testImageIdx:02d}\"\n",
    "try:\n",
    "    Path(f\"./{resultsFolder}\").mkdir(parents=True, exist_ok=True)\n",
    "except:\n",
    "    print(\"Can't make the results directory.\")\n"
   ]
  },
  {
   "cell_type": "code",
   "execution_count": null,
   "metadata": {},
   "outputs": [],
   "source": [
    "totalLabels = 2\n",
    "\n",
    "UseCurvatureFlow = True\n",
    "UseGaussian = False\n",
    "sigma = 0.5\n",
    "timeStep = 0.04\n",
    "numberOfIterations = 10\n",
    "# timeStep = 0.05\n",
    "# numberOfIterations = 5\n",
    "\n",
    "# Tests\n",
    "lassoTols = [0.1, 0.01, 0.001, 0.0001]\n",
    "atlasesNums = [4]\n",
    "Ns = [[5, 5, 5]]\n",
    "Ps = [[3, 3, 3]]\n",
    "\n",
    "# lassoTols = [0.001]\n",
    "# Ns = [[7, 7, 7], [5, 5, 5], [3, 3, 3]]\n",
    "# Ps = [[3, 3, 3], [5, 5, 5], [7, 7, 7]]\n",
    "\n",
    "inputData = []\n",
    "for atlas in atlasesNums:\n",
    "    for P in Ps:\n",
    "        for N in Ns:\n",
    "            for lassoTol in lassoTols:\n",
    "                inputData.append((atlas, P, N, lassoTol))\n",
    "                "
   ]
  },
  {
   "cell_type": "code",
   "execution_count": null,
   "metadata": {
    "scrolled": true
   },
   "outputs": [],
   "source": [
    "import SimpleITK as sitk\n",
    "import numpy as np\n",
    "from utils import *\n",
    "\n",
    "# Set the number of threads\n",
    "sitk.ImageRegistrationMethod().SetGlobalDefaultNumberOfThreads(1)\n",
    "\n",
    "transforms = []\n",
    "mseList = []\n",
    "\n",
    "# find biggest P and N\n",
    "P = np.argmax(Ps, axis=0)[0]\n",
    "N = np.argmax(Ns, axis=0)[0]\n",
    "\n",
    "# Read fixed image\n",
    "pathName = os.path.join(path, data[testImageIdx])\n",
    "if UseCurvatureFlow:\n",
    "    fixedImage = sitk.CurvatureFlow(sitk.ReadImage(pathName), \n",
    "                                    timeStep = timeStep, \n",
    "                                    numberOfIterations = numberOfIterations)\n",
    "elif UseGaussian:\n",
    "    fixedImage = sitk.CurvatureFlow(sitk.SmoothingRecursiveGaussian(\n",
    "                                        sitk.ReadImage(pathName), \n",
    "                                        (sigma, sigma, sigma), \n",
    "                                        True), \n",
    "                                    timeStep = timeStep, \n",
    "                                    numberOfIterations = numberOfIterations)\n",
    "else:\n",
    "    fixedImage = sitk.ReadImage(pathName)\n",
    "\n",
    "\n",
    "# for i, f in enumerate(trainData[:1]): # DEBUG\n",
    "for i, f in enumerate(trainData):\n",
    "    # print(f'Registration of {f}. {i+1}/{len(trainData)}', end='\\x1b[1K\\r')\n",
    "    print(f'Registration of {f}. {i+1}/{len(trainData)}')\n",
    "\n",
    "    pathName = os.path.join(path, f)\n",
    "\n",
    "    # Histogram matching\n",
    "    if UseCurvatureFlow:\n",
    "        image = sitk.HistogramMatching(sitk.CurvatureFlow(sitk.ReadImage(pathName),\n",
    "                                                          timeStep = timeStep, \n",
    "                                                          numberOfIterations = numberOfIterations),\n",
    "                                       fixedImage)\n",
    "    elif UseGaussian:\n",
    "        image = sitk.HistogramMatching(sitk.CurvatureFlow(\n",
    "                                        sitk.SmoothingRecursiveGaussian(\n",
    "                                            sitk.ReadImage(pathName), \n",
    "                                            (sigma, sigma, sigma), \n",
    "                                            True), \n",
    "                                        timeStep = timeStep, \n",
    "                                        numberOfIterations = numberOfIterations),\n",
    "                                       fixedImage)\n",
    "    else:\n",
    "        image = sitk.HistogramMatching(sitk.ReadImage(pathName), fixedImage)\n",
    "\n",
    "    label = sitk.ReadImage(os.path.join(labelPath, f))\n",
    "\n",
    "    # t = registration(fixedImage, image, label)\n",
    "    # t = registration2(fixedImage, image, label)\n",
    "    # t = registrationElastix(fixedImage, image, resultsFolder)\n",
    "    # t = registrationElastix2(fixedImage, image, resultsFolder)\n",
    "    t = registrationElastixMask(fixedImage, image, label, resultsFolder)\n",
    "\n",
    "\n",
    "    # add transform to the list\n",
    "    transforms.append(t)\n",
    "\n",
    "    # add mse to the list\n",
    "    # mseList.append(mse3D(fixedImage, resampleImage(image, fixedImage, t)))\n",
    "    mseList.append(mse3DLabels(fixedImage, \n",
    "                               resampleImage(image, fixedImage, t), \n",
    "                               resampleLabels(label, fixedImage, t)))\n",
    "\n",
    "# sort mseList\n",
    "mseListSorted = sorted(enumerate(mseList), key=lambda x: x[1])\n",
    "\n",
    "###############################################################################\n",
    "# For every test\n",
    "###############################################################################\n",
    "for testIndex, (atlasesNum, P, N, lassoTol) in enumerate(inputData):\n",
    "# for testIndex, (atlasesNum, P, N, lassoTol) in enumerate(inputData[0:1]): # DEBUG\n",
    "    # pick the desired number of atlases\n",
    "    minx = miny = minz = 10000\n",
    "    maxx = maxy = maxz = 0\n",
    "    images = []\n",
    "    labels = []\n",
    "\n",
    "    # Read fixed image\n",
    "    pathName = os.path.join(path, data[testImageIdx])\n",
    "    if UseCurvatureFlow:\n",
    "        fixedImage = sitk.CurvatureFlow(sitk.ReadImage(pathName), \n",
    "                                        timeStep = timeStep, \n",
    "                                        numberOfIterations = numberOfIterations)\n",
    "    elif UseGaussian:\n",
    "        fixedImage = sitk.CurvatureFlow(sitk.SmoothingRecursiveGaussian(\n",
    "                                            sitk.ReadImage(pathName), \n",
    "                                            (sigma, sigma, sigma), \n",
    "                                            True),\n",
    "                                        timeStep = timeStep, \n",
    "                                        numberOfIterations = numberOfIterations)\n",
    "    else:\n",
    "        fixedImage = sitk.ReadImage(pathName)\n",
    "\n",
    "    ###############################################################################\n",
    "    # Read atlases and labels and tranform them\n",
    "    ###############################################################################\n",
    "    for i in range(atlasesNum):\n",
    "    # for i in range(1): # DEBUG\n",
    "        idx = mseListSorted[i][0]\n",
    "        t = transforms[idx]\n",
    "        f = trainData[idx]\n",
    "        pathName = os.path.join(path, f)\n",
    "        # print(f'Reading {f}. {i+1}/{atlasesNum}', end='\\x1b[1K\\r')\n",
    "        print(f'Reading {f}. {i+1}/{atlasesNum}')\n",
    "\n",
    "        # Histogram matching\n",
    "        if UseCurvatureFlow:\n",
    "            images.append(sitk.GetArrayFromImage(resampleImage(\n",
    "                        sitk.HistogramMatching(\n",
    "                            sitk.CurvatureFlow(sitk.ReadImage(pathName), \n",
    "                                               timeStep = timeStep, \n",
    "                                               numberOfIterations = numberOfIterations),\n",
    "                                            fixedImage), \n",
    "                          fixedImage, t)))\n",
    "        elif UseGaussian:\n",
    "            images.append(sitk.GetArrayFromImage(resampleImage(\n",
    "                        sitk.HistogramMatching(\n",
    "                            sitk.CurvatureFlow(sitk.SmoothingRecursiveGaussian(\n",
    "                                                sitk.ReadImage(pathName), \n",
    "                                                (sigma, sigma, sigma), \n",
    "                                                True), \n",
    "                                               timeStep = timeStep, \n",
    "                                               numberOfIterations = numberOfIterations),\n",
    "                                            fixedImage), \n",
    "                          fixedImage, t)))\n",
    "        else:\n",
    "            images.append(sitk.GetArrayFromImage(resampleImage(\n",
    "                        sitk.HistogramMatching(\n",
    "                            sitk.ReadImage(pathName),\n",
    "                            fixedImage),  \n",
    "                        fixedImage, t)))\n",
    "\n",
    "        images[i][images[i] < 0] = 0\n",
    "        images[i] = np.asarray(images[i], dtype=np.uint16)\n",
    "\n",
    "        label = sitk.ReadImage(os.path.join(labelPath, f))\n",
    "        label = sitk.GetArrayFromImage(resampleLabels(label, fixedImage, t))\n",
    "        labels.append(label)\n",
    "\n",
    "        idxs = np.nonzero(label != 0)\n",
    "        minx = min([minx, min(idxs[0])])\n",
    "        maxx = max([maxx, max(idxs[0])])\n",
    "        miny = min([miny, min(idxs[1])])\n",
    "        maxy = max([maxy, max(idxs[1])])\n",
    "        minz = min([minz, min(idxs[2])])\n",
    "        maxz = max([maxz, max(idxs[2])])\n",
    "\n",
    "\n",
    "    ###############################################################################\n",
    "    # Calculate the desired shape\n",
    "    ###############################################################################\n",
    "    shape, copyShape, offset, length = calculateCropShape(images, P, N, minx, maxx, miny, maxy, minz, maxz)\n",
    "\n",
    "    ###############################################################################\n",
    "    # crop images and labels\n",
    "    ###############################################################################\n",
    "    for i in range(len(images)):\n",
    "        images[i] = cropImage(images[i], shape, offset, length, copyShape, \"uint16\")\n",
    "        labels[i] = cropImage(labels[i], shape, offset, length, copyShape, \"uint8\")\n",
    "\n",
    "    fixedImage = sitk.GetArrayFromImage(fixedImage)\n",
    "    fixedImage = cropImage(fixedImage, shape, offset, length, copyShape, \"uint16\")\n",
    "\n",
    "\n",
    "    ###############################################################################\n",
    "    # Make to the proper type\n",
    "    ###############################################################################\n",
    "    # print(\"Fixing data types.\", end='\\x1b[1K\\r')\n",
    "    print(\"Fixing data types.\")\n",
    "    images = np.array(images, order='C')\n",
    "    labels = np.array(labels, order='C')\n",
    "    P = np.array(P, dtype=np.int32)\n",
    "    N = np.array(N, dtype=np.int32)\n",
    "\n",
    "    ###############################################################################\n",
    "    # Perform segmentation\n",
    "    ###############################################################################\n",
    "    from cGen import cGen\n",
    "    print(\"Running segmentation.\")\n",
    "    segmentationSPBM, segmentationSRC = cGen.applySPBMandSRCSpams(fixedImage, images, \n",
    "                                  labels, totalLabels, P, N, lassoTol=lassoTol, \n",
    "                                  lassoMaxIter=1e4, verboseX=True,  verboseY=False, \n",
    "                                  xmin=-1, xmax=-1, ymin=-1, ymax=-1, zmin=-1, zmax=-1,\n",
    "                                  # xmin=10, xmax=11, ymin=10, ymax=11, zmin=10, zmax=11,\n",
    "                                  numThreads=1, lassoL=-1)\n",
    "\n",
    "    ###############################################################################\n",
    "    # Save segmentation results\n",
    "    ###############################################################################\n",
    "\n",
    "    # print(\"Saving results.\", end='\\x1b[1K\\r')\n",
    "    print(\"Saving results.\")\n",
    "    try:\n",
    "        saveSegmentation(segmentationSPBM,\n",
    "                         os.path.join(path, data[testImageIdx]), \n",
    "                         os.path.join(resultsFolder, data[testImageIdx]) + f\"SPBM_{testIndex}.mhd\", \n",
    "                         copyShape, \n",
    "                         offset,\n",
    "                         length,\n",
    "                         verbose=False)\n",
    "    except:\n",
    "        print(\"Can't save SPBM result.\")\n",
    "\n",
    "    try:\n",
    "        saveSegmentation(segmentationSRC,\n",
    "                         os.path.join(path, data[testImageIdx]), \n",
    "                         os.path.join(resultsFolder, data[testImageIdx]) + f\"SRC_{testIndex}.mhd\", \n",
    "                         copyShape, \n",
    "                         offset,\n",
    "                         length,\n",
    "                         verbose=False)\n",
    "    except:\n",
    "        print(\"Can't save SRC result.\")\n",
    "\n",
    "\n",
    "    ###############################################################################\n",
    "    # Save dice index\n",
    "    ###############################################################################\n",
    "\n",
    "    originalLabel = sitk.GetArrayFromImage(sitk.ReadImage(os.path.join(labelPath, data[testImageIdx])))\n",
    "\n",
    "    translatedSegmentationSPBM = translateToOriginal(segmentationSPBM, \n",
    "                                                     os.path.join(path, data[testImageIdx]), \n",
    "                                                     copyShape, \n",
    "                                                     offset, \n",
    "                                                     length)\n",
    "\n",
    "    diceSPBM = Dice(originalLabel, translatedSegmentationSPBM, totalLabels)\n",
    "\n",
    "    translatedSegmentationSRC = translateToOriginal(segmentationSRC, \n",
    "                                                    os.path.join(path, data[testImageIdx]), \n",
    "                                                    copyShape, \n",
    "                                                    offset, \n",
    "                                                    length)\n",
    "\n",
    "    diceSRC = Dice(originalLabel, translatedSegmentationSRC, totalLabels)\n",
    "\n",
    "    print(f\"{testIndex}: Atlases: {atlasesNum}, P: {P}, N: {N}, lassoTol: {lassoTol}\")\n",
    "    print(\"SPBM:\", diceSPBM)\n",
    "    print(\"SRC:\", diceSRC)\n",
    "\n",
    "    try:\n",
    "        diceFile = open(f\"./{resultsFolder}/dice.txt\", \"a\") \n",
    "        diceFile.write(f\"{testIndex}: Atlases: {atlasesNum}, P: {P}, N: {N}, lassoTol: {lassoTol}\"+\"\\n\")\n",
    "        diceFile.write(\"SPBM: \" + str(diceSPBM) + \"\\n\")\n",
    "        diceFile.write(\"SRC: \" + str(diceSRC) + \"\\n\")\n",
    "        diceFile.close()\n",
    "    except:\n",
    "        print(\"Can't append dice results.\")"
   ]
  },
  {
   "cell_type": "code",
   "execution_count": null,
   "metadata": {},
   "outputs": [],
   "source": [
    "####################################################\n",
    "# END OF NORMAL CODE \n",
    "####################################################\n",
    "import sys\n",
    "sys.exit()"
   ]
  },
  {
   "cell_type": "code",
   "execution_count": null,
   "metadata": {},
   "outputs": [],
   "source": [
    "\n",
    "pathName = os.path.join(path, \"9036287.nii.gz\")\n",
    "image = sitk.ReadImage(pathName)\n",
    "print(image.GetPixelID())\n",
    "test = sitk.GetArrayFromImage(image)\n",
    "test = test.astype(np.uint16)\n",
    "\n",
    "newImage = sitk.GetImageFromArray(test)\n",
    "newImage.CopyInformation(image)\n",
    "print(newImage.GetPixelID())\n",
    "pathName = os.path.join(path,  \"9036287.nii.gz\")\n",
    "# sitk.WriteImage(newImage, pathName, True)"
   ]
  },
  {
   "cell_type": "code",
   "execution_count": null,
   "metadata": {},
   "outputs": [],
   "source": [
    "import numpy as np"
   ]
  },
  {
   "cell_type": "code",
   "execution_count": null,
   "metadata": {},
   "outputs": [],
   "source": [
    "sitk.GetArrayFromImage(image)"
   ]
  },
  {
   "cell_type": "code",
   "execution_count": null,
   "metadata": {},
   "outputs": [],
   "source": [
    "\n",
    "(((sitk.GetArrayFromImage(image) - sitk.GetArrayFromImage(fixedImage))[sitk.GetArrayFromImage(label) > 0])**2).mean()"
   ]
  },
  {
   "cell_type": "code",
   "execution_count": null,
   "metadata": {},
   "outputs": [],
   "source": [
    "((sitk.GetArrayFromImage(image) - sitk.GetArrayFromImage(fixedImage))**2).mean()\n"
   ]
  },
  {
   "cell_type": "code",
   "execution_count": null,
   "metadata": {},
   "outputs": [],
   "source": [
    "mask = sitk.GetArrayFromImage(label)\n",
    "mask[mask > 1] = 1\n",
    "print(((mask * (sitk.GetArrayFromImage(image) - sitk.GetArrayFromImage(fixedImage)))**2).sum())\n",
    "((mask * sitk.GetArrayFromImage(image) - mask * sitk.GetArrayFromImage(fixedImage))**2).sum()"
   ]
  },
  {
   "cell_type": "code",
   "execution_count": null,
   "metadata": {},
   "outputs": [],
   "source": [
    "\n",
    "for testIndex, (atlasesNum, P, N, lassoTol) in enumerate(inputData):\n",
    "    print(testIndex, atlasesNum, P, N, lassoTol)"
   ]
  },
  {
   "cell_type": "code",
   "execution_count": null,
   "metadata": {},
   "outputs": [],
   "source": [
    "from PIL import Image\n",
    "import numpy as np\n",
    "\n",
    "def showImg_(img, z=60):\n",
    "    a = sitk.GetArrayFromImage(img[z,:,:])\n",
    "    disImg = Image.fromarray(np.interp(a, (a.min(), a.max()), (0, 255)).astype('uint8'))\n",
    "    disImg.show()\n",
    "    \n",
    "def showImg2_(img, z=60):\n",
    "    disImg = Image.fromarray(sitk.GetArrayFromImage(img[z,:,:]).astype('uint8'))\n",
    "    disImg.show()\n",
    "    \n",
    "def showImg3_(img, z=60):\n",
    "    a = sitk.GetArrayFromImage(img[z,:,:])\n",
    "    disImg = image.fromarray(np.interp(a, (0, 5000), (0, 255)).astype('uint8'))\n",
    "    disImg.show()\n",
    "    \n",
    "def showImg4_(img, z=60):\n",
    "    img2 = Image.fromarray(sitk.GetArrayFromImage(img[z,:,:])*60, 'L')\n",
    "    img2.show()"
   ]
  },
  {
   "cell_type": "code",
   "execution_count": null,
   "metadata": {},
   "outputs": [],
   "source": [
    "labels[0].shape"
   ]
  },
  {
   "cell_type": "code",
   "execution_count": null,
   "metadata": {},
   "outputs": [],
   "source": [
    "showImg2_(sitk.GetImageFromArray(fixedImage), 20)\n",
    "showImg2_(sitk.GetImageFromArray(images[0]), 20)\n",
    "showImg_(sitk.GetImageFromArray(labels[0]), 20)\n",
    "# showImg_(sitk.GetImageFromArray(segmentationSPBM), 20)"
   ]
  },
  {
   "cell_type": "code",
   "execution_count": null,
   "metadata": {},
   "outputs": [],
   "source": [
    "showImg2_(sitk.GetImageFromArray(fixedImage), 60)\n",
    "showImg2_(sitk.GetImageFromArray(images[0]), 60)\n",
    "showImg_(sitk.GetImageFromArray(segmentationSPBM), 60)\n",
    "# showImg2_(images[1], 60)"
   ]
  },
  {
   "cell_type": "code",
   "execution_count": null,
   "metadata": {},
   "outputs": [],
   "source": [
    "segmentationSPBM[segmentationSPBM > 0]"
   ]
  },
  {
   "cell_type": "code",
   "execution_count": null,
   "metadata": {},
   "outputs": [],
   "source": [
    "l = sitk.GetArrayFromImage(label)\n",
    "l[l == 4] = 0\n",
    "mask = sitk.GetImageFromArray(l)\n",
    "\n",
    "showImg4_(mask, 100)\n"
   ]
  },
  {
   "cell_type": "code",
   "execution_count": null,
   "metadata": {},
   "outputs": [],
   "source": [
    "sitk.ImageRegistrationMethod().SetGlobalDefaultNumberOfThreads()"
   ]
  },
  {
   "cell_type": "code",
   "execution_count": null,
   "metadata": {},
   "outputs": [],
   "source": [
    "help(sitk.ElastixImageFilter())\n",
    "# sitk.ElastixImageFilter().GetOutputDirectory()"
   ]
  },
  {
   "cell_type": "code",
   "execution_count": null,
   "metadata": {},
   "outputs": [],
   "source": [
    "help(elastixImageFilter)"
   ]
  },
  {
   "cell_type": "code",
   "execution_count": null,
   "metadata": {},
   "outputs": [],
   "source": []
  },
  {
   "cell_type": "code",
   "execution_count": null,
   "metadata": {},
   "outputs": [],
   "source": [
    "import SimpleITK as sitk\n",
    "import os\n",
    "from utils import *\n",
    "\n",
    "path = \"./Dataset/data\"\n",
    "labelPath = \"Dataset/labels\"\n",
    "\n",
    "data = os.listdir(path)\n",
    "datasetLen = len(data)\n",
    "\n",
    "# spilt dataset\n",
    "trainData = data[:int(datasetLen * 0.7)]\n",
    "testData = data[int(datasetLen * 0.7):]\n",
    "\n",
    "\"\"\"Write transforms.\"\"\"\n",
    "from pathlib import Path\n",
    "\n",
    "timeStep = 0.04\n",
    "numberOfIterations = 10\n",
    "\n",
    "pathName = os.path.join(path, testData[0])\n",
    "# fixedImage = sitk.ReadImage(pathName)\n",
    "\n",
    "# fixedImage = sitk.CurvatureFlow(sitk.ReadImage(pathName), timeStep = 0.04, numberOfIterations = 10)\n",
    "fixedImage = sitk.CurvatureFlow(sitk.ReadImage(pathName), timeStep = timeStep,\n",
    "                                numberOfIterations = numberOfIterations)\n",
    "\n",
    "\n",
    "for i, f in enumerate(trainData[8:9]): # for test\n",
    "# for i, f in enumerate(trainData):\n",
    "    # print(f'Registration of {f}. {i+1}/{len(trainData)}', end='\\x1b[1K\\r')\n",
    "    print(f'Registration of {f}. {i+1}/{len(trainData)}')\n",
    "    \n",
    "    pathName = os.path.join(path, f)\n",
    "                  \n",
    "    # image = sitk.ReadImage(pathName)\n",
    "    \n",
    "    # image = sitk.HistogramMatching(sitk.ReadImage(pathName), fixedImage)\n",
    "    image = sitk.HistogramMatching(sitk.CurvatureFlow(sitk.ReadImage(pathName), \n",
    "                                                      # timeStep = 0.04, \n",
    "                                                      # numberOfIterations = 10),\n",
    "                                                      timeStep = timeStep, \n",
    "                                                      numberOfIterations = numberOfIterations),\n",
    "                                   fixedImage)\n",
    "    \n",
    "    label = sitk.ReadImage(os.path.join(labelPath, f))\n",
    "    \n",
    "    # t = registrationElastixMask(fixedImage, image, label)\n",
    "    # t2 = registration(fixedImage, image, label)\n",
    "\n",
    "    resample = sitk.ResampleImageFilter()\n",
    "    resample.SetReferenceImage(fixedImage)\n",
    "\n",
    "    resample.SetInterpolator(sitk.sitkLinear)\n",
    "    # resample.SetTransform(t)\n",
    "    resample.SetSize()\n",
    "\n",
    "    newImage = resample.Execute(image)\n"
   ]
  },
  {
   "cell_type": "code",
   "execution_count": null,
   "metadata": {},
   "outputs": [],
   "source": [
    "\n",
    "resample = sitk.ResampleImageFilter()\n",
    "resample.SetReferenceImage(fixedImage)\n",
    "\n",
    "resample.SetInterpolator(sitk.sitkLinear)\n",
    "# resample.SetTransform(t)\n",
    "resample.SetSize([i // 2 for i in list(image.GetSize())])\n",
    "resample.SetOutputSpacing([i * 2 for i in list(image.GetSpacing())])\n",
    "\n",
    "newImage = resample.Execute(image)"
   ]
  },
  {
   "cell_type": "code",
   "execution_count": null,
   "metadata": {},
   "outputs": [],
   "source": [
    "resample = sitk.ResampleImageFilter()\n",
    "resample.SetReferenceImage(newImage)\n",
    "\n",
    "resample.SetInterpolator(sitk.sitkLinear)\n",
    "# resample.SetTransform(t)\n",
    "resample.SetSize([i * 2 for i in list(newImage.GetSize())])\n",
    "resample.SetOutputSpacing([i / 2 for i in list(newImage.GetSpacing())])\n",
    "\n",
    "image2 = resample.Execute(image)"
   ]
  },
  {
   "cell_type": "code",
   "execution_count": null,
   "metadata": {},
   "outputs": [],
   "source": [
    "shrinkFilter = sitk.ShrinkImageFilter()\n",
    "shrinkFilter.SetShrinkFactor(1)\n",
    "newImage2 = shrinkFilter.Execute(image)\n",
    "\n",
    "\n",
    "expandFilter = sitk.ExpandImageFilter()\n",
    "expandFilter.SetExpandFactor(1)\n",
    "expandFilter.SetInterpolator(sitk.sitkLinear)\n",
    "image2 = expandFilter.Execute(newImage2)\n"
   ]
  },
  {
   "cell_type": "code",
   "execution_count": null,
   "metadata": {},
   "outputs": [],
   "source": [
    "print(newImage2.GetSize())\n",
    "\n",
    "showImg_(newImage2, 30)"
   ]
  },
  {
   "cell_type": "code",
   "execution_count": null,
   "metadata": {},
   "outputs": [],
   "source": [
    "size = [i // 2 for i in list(image.GetSize())]\n",
    "'''\n",
    "for i, val in enumerate(image.GetSize()):\n",
    "    print(i, val)\n",
    "    size[i] = val // 2\n",
    "'''   \n",
    "print(size)"
   ]
  },
  {
   "cell_type": "code",
   "execution_count": null,
   "metadata": {},
   "outputs": [],
   "source": [
    "showImg_(image)\n",
    "showImg_(image2)"
   ]
  },
  {
   "cell_type": "code",
   "execution_count": null,
   "metadata": {},
   "outputs": [],
   "source": []
  },
  {
   "cell_type": "code",
   "execution_count": null,
   "metadata": {},
   "outputs": [],
   "source": [
    "fixedImage.GetPixelID()"
   ]
  },
  {
   "cell_type": "code",
   "execution_count": null,
   "metadata": {},
   "outputs": [],
   "source": [
    "import SimpleITK as sitk\n",
    "help(image)"
   ]
  },
  {
   "cell_type": "code",
   "execution_count": null,
   "metadata": {},
   "outputs": [],
   "source": [
    "help(sitk.GetDefaultParameterMap(\"affine\"))\n",
    "elastixImageFilter.PrintParameterMap()"
   ]
  },
  {
   "cell_type": "code",
   "execution_count": null,
   "metadata": {},
   "outputs": [],
   "source": [
    "import SimpleITK as sitk\n",
    "import os\n",
    "from utils import *\n",
    "\n",
    "path = \"./Dataset/data\"\n",
    "labelPath = \"Dataset/labels\"\n",
    "\n",
    "data = os.listdir(path)\n",
    "datasetLen = len(data)\n",
    "\n",
    "# spilt dataset\n",
    "trainData = data[:int(datasetLen * 0.7)]\n",
    "testData = data[int(datasetLen * 0.7):]\n",
    "\n",
    "\"\"\"Write transforms.\"\"\"\n",
    "from pathlib import Path\n",
    "\n",
    "timeStep = 0.04\n",
    "numberOfIterations = 10\n",
    "\n",
    "pathName = os.path.join(path, testData[0])\n",
    "# fixedImage = sitk.ReadImage(pathName)\n",
    "\n",
    "# fixedImage = sitk.CurvatureFlow(sitk.ReadImage(pathName), timeStep = 0.04, numberOfIterations = 10)\n",
    "fixedImage = sitk.CurvatureFlow(sitk.ReadImage(pathName), timeStep = timeStep,\n",
    "                                numberOfIterations = numberOfIterations)\n",
    "\n",
    "\n",
    "for i, f in enumerate(trainData[8:9]): # for test\n",
    "# for i, f in enumerate(trainData):\n",
    "    # print(f'Registration of {f}. {i+1}/{len(trainData)}', end='\\x1b[1K\\r')\n",
    "    print(f'Registration of {f}. {i+1}/{len(trainData)}')\n",
    "    \n",
    "    pathName = os.path.join(path, f)\n",
    "                  \n",
    "    # image = sitk.ReadImage(pathName)\n",
    "    \n",
    "    # image = sitk.HistogramMatching(sitk.ReadImage(pathName), fixedImage)\n",
    "    image = sitk.HistogramMatching(sitk.CurvatureFlow(sitk.ReadImage(pathName), \n",
    "                                                      # timeStep = 0.04, \n",
    "                                                      # numberOfIterations = 10),\n",
    "                                                      timeStep = timeStep, \n",
    "                                                      numberOfIterations = numberOfIterations),\n",
    "                                   fixedImage)\n",
    "    \n",
    "    label = sitk.ReadImage(os.path.join(labelPath, f))\n",
    "    \n",
    "    t = registrationElastixMask(fixedImage, image, label)\n",
    "    t2 = registration(fixedImage, image, label)\n",
    "\n",
    "    showImg_(resampleImage(image, fixedImage, t))\n",
    "    showImg_(resampleImage(image, fixedImage, t2))\n",
    "    showImg_(fixedImage)\n",
    "\n",
    "'''\n",
    "# showImg_(fixedImage)\n",
    "# showImg_(image)\n",
    "\n",
    "# label = sitk.ReadImage(os.path.join(labelPath, f))\n",
    "# Create the mask\n",
    "l = sitk.GetArrayFromImage(label)\n",
    "l[l>1] = 1\n",
    "mask = sitk.GetImageFromArray(l)\n",
    "mask.CopyInformation(label)\n",
    "    \n",
    "elastixImageFilter = sitk.ElastixImageFilter()\n",
    "elastixImageFilter.SetFixedImage(fixedImage)\n",
    "elastixImageFilter.SetMovingImage(image)\n",
    "elastixImageFilter.AddMovingMask(mask)\n",
    "elastixImageFilter.SetParameterMap(sitk.GetDefaultParameterMap(\"affine\"))\n",
    "elastixImageFilter.SetParameter(\"Metric\", \"AdvancedMeanSquares\")\n",
    "\n",
    "# elastixImageFilter.SetParameter(\"MaximumNumberOfIterations\", \"8192\")\n",
    "elastixImageFilter.SetParameter(\"MaximumNumberOfIterations\", \"2048\")\n",
    "\n",
    "elastixImageFilter.SetParameter(\"MaximumNumberOfSamplingAttempts\", \"32\")\n",
    "elastixImageFilter.SetParameter(\"NumberOfSamplesForExactGradient\", \"8192\")\n",
    "elastixImageFilter.SetParameter(\"NumberOfSpatialSamples\", \"8192\")\n",
    "elastixImageFilter.SetParameter(\"SamplingPercentage\", \"0.8\")\n",
    "\n",
    "elastixImageFilter.SetParameter(\"NumberOfJacobianMeasurements\", \"10000\")\n",
    "# elastixImageFilter.SetParameter(\"SelfHessianSmoothingSigma\", \"0\")\n",
    "elastixImageFilter.SetParameter(\"UseNormalization\", \"true\")\n",
    "\n",
    "elastixImageFilter.SetParameter(\"AutomaticTransformInitialization\", \"true\")\n",
    "elastixImageFilter.SetParameter(\"ErodeMovingMask\", \"false\")\n",
    "elastixImageFilter.SetParameter(\"CheckNumberOfSamples\", \"false\")\n",
    "elastixImageFilter.SetParameter(\"WriteResultImage\", \"false\")\n",
    "elastixImageFilter.LogToFileOff()\n",
    "\n",
    "# elastixImageFilter.SetOutputDirectory(\"AHE\")\n",
    "# elastixImageFilter.SetParameter(\"RandomSparseMask\", \"true\")\n",
    "\n",
    "\"\"\"\n",
    "elastixImageFilter.SetParameter(\"FixedImagePyramid\", \"FixedRecursiveImagePyramid\")\n",
    "elastixImageFilter.SetParameter(\"MovingImagePyramid\", \"MovingRecursiveImagePyramid\")\n",
    "elastixImageFilter.SetParameter(\"ImagePyramidSchedule\", \"8 8 8  4 4 4  2 2 2  1 1 1\")\n",
    "(FixedImagePyramid \"FixedRecursiveImagePyramid\")\n",
    "(MovingImagePyramid \"MovingRecursiveImagePyramid\")\n",
    "(ImagePyramidSchedule 8 8 8  4 4 4  2 2 2  1 1 1)\n",
    "\"\"\"\n",
    "\n",
    "# elastixImageFilter.SetParameter(\"NumberOfBandStructureSamples\", \"100\")\n",
    "# elastixImageFilter.SetParameter(\"ImagePyramidSchedule\", \"[[1,1,1],[1,1,1],[1,1,1],[1,1,1]]\")\n",
    "# elastixImageFilter.SetParameter(\"ImagePyramidSchedule\", \"1\")\n",
    "# elastixImageFilter.SetParameter(\"AutomaticTransformInitializationMethod\", \"CenterOfGravity\")\n",
    "# elastixImageFilter.SetParameter(\"ImageSampler\", \"RandomSparseMask\")\n",
    "# elastixImageFilter.SetParameter(\"AutomaticScalesEstimation\", \"false\")\n",
    "\n",
    "elastixImageFilter.Execute()\n",
    "\n",
    "\n",
    "showImg_(elastixImageFilter.GetResultImage())\n",
    "showImg_(fixedImage)\n",
    "\n",
    "'''\n"
   ]
  },
  {
   "cell_type": "code",
   "execution_count": null,
   "metadata": {},
   "outputs": [],
   "source": []
  },
  {
   "cell_type": "code",
   "execution_count": null,
   "metadata": {},
   "outputs": [],
   "source": [
    "# resultImage2 = elastixImageFilter.GetResultImage()\n",
    "transformParameterMap = elastixImageFilter.GetTransformParameterMap()"
   ]
  },
  {
   "cell_type": "code",
   "execution_count": null,
   "metadata": {},
   "outputs": [],
   "source": [
    "showImg_(elastixImageFilter.GetResultImage())"
   ]
  },
  {
   "cell_type": "code",
   "execution_count": null,
   "metadata": {},
   "outputs": [],
   "source": [
    "print(transformParameterMap[0].asdict())"
   ]
  },
  {
   "cell_type": "code",
   "execution_count": null,
   "metadata": {},
   "outputs": [],
   "source": [
    "af = sitk.AffineTransform(3)\n",
    "# af.SetMatrix([float(i) for i in transformParameterMap[0].asdict()['TransformParameters']])\n",
    "# af.SetTranslation([float(i) for i in transformParameterMap[0].asdict()['TransformParameters']])\n",
    "test = [float(i) for i in transformParameterMap[0].asdict()['TransformParameters']]\n",
    "# test2 = [[i for i in test[0:3]], [i for i in test[4:7]], [i for i in test[8:11]]]\n",
    "af.SetTranslation(test[9:])\n",
    "af.SetMatrix(test[0:9])\n",
    "test = [float(i) for i in transformParameterMap[0].asdict()['CenterOfRotationPoint']]\n",
    "af.SetCenter(test)\n",
    "\n",
    "resample = sitk.ResampleImageFilter()\n",
    "resample.SetReferenceImage(fixedImage)\n",
    "resample.SetInterpolator(sitk.sitkNearestNeighbor)\n",
    "resample.SetTransform(af)\n",
    "\n",
    "testL = resample.Execute(label)\n",
    "\n",
    "# from utils import *\n",
    "# testL = resampleLabels(label, fixedImage, af)\n",
    "\n",
    "resample = sitk.ResampleImageFilter()\n",
    "resample.SetReferenceImage(fixedImage)\n",
    "resample.SetInterpolator(sitk.sitkLinear)\n",
    "resample.SetTransform(af)\n",
    "testI = resample.Execute(image)\n",
    "\n",
    "print(resample.GetTransform())"
   ]
  },
  {
   "cell_type": "code",
   "execution_count": null,
   "metadata": {},
   "outputs": [],
   "source": [
    "# help(sitk.ResampleImageFilter())\n",
    "print(af.GetMatrix())\n",
    "print(af.GetCenter())\n",
    "print(af.GetTranslation())\n",
    "help(af)"
   ]
  },
  {
   "cell_type": "code",
   "execution_count": null,
   "metadata": {},
   "outputs": [],
   "source": []
  },
  {
   "cell_type": "code",
   "execution_count": null,
   "metadata": {},
   "outputs": [],
   "source": [
    "showImg_(elastixImageFilter.GetResultImage())\n",
    "# showImg_(image)\n",
    "showImg_(fixedImage)\n",
    "# showImg_(testL)\n",
    "# showImg_(testI)\n",
    "# showImg_(label)\n",
    "# TODO: maybe deformation fiead????"
   ]
  },
  {
   "cell_type": "code",
   "execution_count": null,
   "metadata": {},
   "outputs": [],
   "source": [
    "sitk.GetArrayFromImage(testL)"
   ]
  },
  {
   "cell_type": "code",
   "execution_count": null,
   "metadata": {},
   "outputs": [],
   "source": [
    "transformixImageFilter = sitk.TransformixImageFilter()\n",
    "transformixImageFilter.SetTransformParameter(\"UseBinaryFormatForTransformationParameters\", \"true\")\n",
    "transformixImageFilter.SetTransformParameterMap(elastixImageFilter.GetTransformParameterMap())\n",
    "transformixImageFilter.SetMovingImage(label)\n",
    "transformixImageFilter.AddTransformParameter(\"Interpolator\", \"NearestNeighborInterpolator\")\n",
    "transformixImageFilter.SetTransformParameter(\"ResultImagePixelType\", \"double\")\n",
    "transformixImageFilter.SetTransformParameter(\"MovingInternalImagePixelType\", \"double\")\n",
    "transformixImageFilter.SetTransformParameter(\"FixedInternalImagePixelType\", \"double\")\n",
    "# transformixImageFilter.SetTransformParameter(\"FixedInternalImagePixelType\", \"sitk.sitkInt8\")\n",
    "# transformixImageFilter.AddTransformParameter(\"ResampleInterpolator\", \"NearestNeighborInterpolator\")\n",
    "lel = transformixImageFilter.Execute()\n",
    "showImg_(lel)"
   ]
  },
  {
   "cell_type": "code",
   "execution_count": null,
   "metadata": {},
   "outputs": [],
   "source": [
    "# Transform label map using the deformation field from above\n",
    "resultLabel = sitk.Cast(sitk.Transformix(label, elastixImageFilter.GetTransformParameterMap()), sitk.sitkInt8)\n",
    "showImg_(resultLabel)\n",
    "np.unique(sitk.GetArrayFromImage(resultLabel))"
   ]
  },
  {
   "cell_type": "code",
   "execution_count": null,
   "metadata": {},
   "outputs": [],
   "source": [
    "sitk.sitkInt8"
   ]
  },
  {
   "cell_type": "code",
   "execution_count": null,
   "metadata": {},
   "outputs": [],
   "source": [
    "np.unique(sitk.GetArrayFromImage(lel))"
   ]
  },
  {
   "cell_type": "code",
   "execution_count": null,
   "metadata": {},
   "outputs": [],
   "source": [
    "transformixImageFilter.PrintParameterMap()"
   ]
  },
  {
   "cell_type": "code",
   "execution_count": null,
   "metadata": {},
   "outputs": [],
   "source": [
    "print(transformixImageFilter.GetComputeSpatialJacobian())\n",
    "print(transformixImageFilter.GetComputeDeterminantOfSpatialJacobian())\n",
    "print(transformixImageFilter.GetComputeDeformationField())"
   ]
  },
  {
   "cell_type": "code",
   "execution_count": null,
   "metadata": {},
   "outputs": [],
   "source": [
    "help(sitk.Transformix)"
   ]
  },
  {
   "cell_type": "code",
   "execution_count": null,
   "metadata": {},
   "outputs": [],
   "source": [
    "help(sitk.TransformixImageFilter())"
   ]
  },
  {
   "cell_type": "code",
   "execution_count": null,
   "metadata": {},
   "outputs": [],
   "source": [
    "help(sitk.ElastixImageFilter())"
   ]
  },
  {
   "cell_type": "code",
   "execution_count": null,
   "metadata": {},
   "outputs": [],
   "source": [
    "test = sitk.ElastixImageFilter()\n",
    "test.AddParameterMap(transformParameterMap)"
   ]
  },
  {
   "cell_type": "code",
   "execution_count": null,
   "metadata": {},
   "outputs": [],
   "source": [
    "sitk.PrintParameterMap(elastixImageFilter.GetParameterMap())"
   ]
  },
  {
   "cell_type": "code",
   "execution_count": null,
   "metadata": {},
   "outputs": [],
   "source": [
    "help(sitk.ElastixImageFilter)"
   ]
  },
  {
   "cell_type": "code",
   "execution_count": null,
   "metadata": {},
   "outputs": [],
   "source": [
    "print(transformParameterMap)"
   ]
  },
  {
   "cell_type": "code",
   "execution_count": null,
   "metadata": {},
   "outputs": [],
   "source": [
    "showImg2_(fixedImage, 60)\n",
    "showImg2_(images[0], 60)\n",
    "showImg2_(resultImage, 60)"
   ]
  },
  {
   "cell_type": "code",
   "execution_count": null,
   "metadata": {},
   "outputs": [],
   "source": [
    "showImg_(fixedImage, 60)\n",
    "showImg_(images[1], 60)\n",
    "showImg_(resultImage, 60)"
   ]
  },
  {
   "cell_type": "code",
   "execution_count": null,
   "metadata": {},
   "outputs": [],
   "source": [
    "help(sitk.GetImageFromArray)"
   ]
  },
  {
   "cell_type": "code",
   "execution_count": null,
   "metadata": {},
   "outputs": [],
   "source": [
    "\n",
    "labels = np.array(labels, order='C', dtype=np.uint8)\n",
    "\n",
    "segmentationSPBM, segmentationSRC = cGen.applySPBMandSRCSpams(fixedImage, images, \n",
    "                              labels, 3, P, N, lassoTol=0.00001, \n",
    "                              lassoMaxIter=1e4, verboseX=True,  verboseY=False, \n",
    "                              xmin=-1, xmax=-1, ymin=-1, ymax=-1, zmin=-1, zmax=-1)"
   ]
  },
  {
   "cell_type": "code",
   "execution_count": null,
   "metadata": {},
   "outputs": [],
   "source": [
    "segmentationSPBM, segmentationSRC = cGen.applySPBMandSRCSpams(fixedImage,\n",
    "                                                         images, \n",
    "                              np.ones(labels.shape, dtype=np.uint8, order='C')+50, 3, P, N, lassoTol=0.00001, \n",
    "                              lassoMaxIter=1e4, verboseX=True,  verboseY=False, \n",
    "                              xmin=-1, xmax=-1, ymin=-1, ymax=-1, zmin=-1, zmax=-1)"
   ]
  },
  {
   "cell_type": "code",
   "execution_count": null,
   "metadata": {},
   "outputs": [],
   "source": [
    "print(fixedImage.shape)\n",
    "print(fixedImage.dtype)\n",
    "print(type(fixedImage))\n",
    "print(images.shape)\n",
    "print(images.dtype)\n",
    "print(type(images))\n",
    "print(labels.shape)\n",
    "print(labels.dtype)\n",
    "print(type(labels))"
   ]
  },
  {
   "cell_type": "code",
   "execution_count": null,
   "metadata": {},
   "outputs": [],
   "source": [
    "from cGen import cGen\n",
    "import numpy as np\n",
    "import segmentation\n",
    "\n",
    "\n",
    "P = [5, 5, 5]\n",
    "N = [5, 5, 5]\n",
    "P = np.array(P, dtype=np.int32)\n",
    "N = np.array(N, dtype=np.int32)\n",
    "\n",
    "ii = np.array(np.random.randint(0, high=500, size=(390, 276, 129)), dtype=np.uint16, order='C')\n",
    "i = np.array(np.random.randint(0, high=500, size=(5, 390, 276, 129)), dtype=np.uint16, order='C')\n",
    "iii = np.array(np.random.randint(0, high=3, size=(5, 390, 276, 129)), dtype=np.uint8, order='C')\n",
    "v = [50,50,50]\n",
    "v = np.array(v, dtype=np.int32)\n",
    "\n",
    "a = cGen.createA(i, v, P, N)\n",
    "aa = segmentation.createA(i, v, P, N)\n",
    "\n",
    "b = cGen.createB(ii, v, P)\n",
    "bb = segmentation.createB(ii, v, P)\n",
    "# print(a)\n",
    "# print(aa)\n",
    "l = cGen.createL(iii, v, N)\n",
    "ll = segmentation.createL(iii, v, N)\n",
    "\n",
    "for x in range(len(l)):\n",
    "    if l[x] != ll[x]:\n",
    "        print(\"l\", x)\n",
    "\n",
    "for x in range(len(b)):\n",
    "    if b[x] != bb[x]:\n",
    "        print(\"b\", x)\n",
    "\n",
    "for x in range(len(a)):\n",
    "    for y in range(len(a[x])):\n",
    "        if a[x,y] != aa[x,y]:\n",
    "            print(x,y)"
   ]
  },
  {
   "cell_type": "code",
   "execution_count": null,
   "metadata": {},
   "outputs": [],
   "source": []
  },
  {
   "cell_type": "code",
   "execution_count": null,
   "metadata": {
    "scrolled": true
   },
   "outputs": [],
   "source": [
    "import os\n",
    "# Set environment variables\n",
    "os.environ['OPENBLAS_NUM_THREADS'] = '1'\n",
    "#export OPENBLAS_NUM_THREADS=1\n",
    "\n",
    "from cGen import cGen\n",
    "import numpy as np\n",
    "\n",
    "P = [7, 7, 7]\n",
    "N = [7, 7, 7]\n",
    "P = [3, 3, 3]\n",
    "N = [5, 5, 5]\n",
    "P = np.array(P, dtype=np.int32)\n",
    "N = np.array(N, dtype=np.int32)\n",
    "\n",
    "ii = np.array(np.random.randint(0, high=500, size=(390, 276, 129)), dtype=np.uint16, order='C')\n",
    "i = np.array(np.random.randint(0, high=500, size=(5, 390, 276, 129)), dtype=np.uint16, order='C')\n",
    "l = np.array(np.random.randint(0, high=3, size=(5, 390, 276, 129)), dtype=np.uint8, order='C')\n",
    "# segmentationSPBM, segmentationSRC = cGen.applySPBMandSRCSpams(ii,\n",
    "# '''\n",
    "segmentationSPBM, segmentationSRC = cGen.applySPBMandSRCSpams(ii,\n",
    "                                                              i, \n",
    "                                                              l, 3, P, N, lassoTol=0.1, \n",
    "                              lassoMaxIter=1e0, verboseX=True,  verboseY=False, \n",
    "                              xmin=-1, xmax=-1, ymin=-1, ymax=-1, zmin=60, zmax=61,\n",
    "                              # xmin=-1, xmax=-1, ymin=60, ymax=61, zmin=60, zmax=61,\n",
    "                              numThreads=1, lassoL=1)\n",
    "# '''\n",
    "'''\n",
    "segmentation = cGen.applySPEP(ii, i,  l, 3, P, N, verboseX=True,  verboseY=True, \n",
    "                              xmin=-1, xmax=-1, ymin=-1, ymax=-1, zmin=-1, zmax=-1,)\n",
    "'''\n",
    "'''\n",
    "segmentation = cGen.applySPBMandSRC(ii,\n",
    "                              i, \n",
    "                              l, 3, P, N, lassoTol=0.1, \n",
    "                              lassoMaxIter=1e0, verboseX=True,  verboseY=False, \n",
    "                              xmin=-1, xmax=-1, ymin=-1, ymax=-1, zmin=60, zmax=61,\n",
    "                              # xmin=-1, xmax=-1, ymin=60, ymax=61, zmin=60, zmax=61,\n",
    "                              )\n",
    "'''\n",
    "'''\n",
    "segmentation = cGen.applyMV(ii,\n",
    "                              i, \n",
    "                              l, 3, verboseX=True,  verboseY=False, \n",
    "                              xmin=-1, xmax=-1, ymin=-1, ymax=-1, zmin=-1, zmax=-1,\n",
    "                              # xmin=-1, xmax=-1, ymin=60, ymax=61, zmin=60, zmax=61,\n",
    "                              )\n",
    "'''"
   ]
  },
  {
   "cell_type": "code",
   "execution_count": null,
   "metadata": {},
   "outputs": [],
   "source": [
    "from utils import Dice\n",
    "# l = np.array(np.random.randint(0, high=3, size=(5, 390, 276, 129)), dtype=np.uint8, order='C')\n",
    "i = np.array(np.random.randint(0, high=3, size=(390, 276, 129)), dtype=np.uint8, order='C')\n",
    "j = np.array(np.random.randint(0, high=3, size=(390, 276, 129)), dtype=np.uint8, order='C')\n",
    "Dice(np.array(i), np.array(j), 2)"
   ]
  },
  {
   "cell_type": "code",
   "execution_count": null,
   "metadata": {},
   "outputs": [],
   "source": []
  },
  {
   "cell_type": "code",
   "execution_count": null,
   "metadata": {},
   "outputs": [],
   "source": [
    "np.sum(l[l>0])\n",
    "l"
   ]
  },
  {
   "cell_type": "code",
   "execution_count": null,
   "metadata": {},
   "outputs": [],
   "source": [
    "import spams\n",
    "import numpy as np\n",
    "\n",
    "A = np.zeros(shape=(20, 10), dtype=np.single, order='F')\n",
    "B = np.zeros(shape=(20, 1), dtype=np.single, order='F')\n",
    "# B = np.zeros(shape=(20, 1), dtype=np.single, order='F')\n",
    "\n",
    "\n",
    "alpha = spams.lasso(B, A, \n",
    "               return_reg_path = False, \n",
    "               lambda1 = 0.1, \n",
    "               lambda2 = 0.,\n",
    "               pos = True,\n",
    "               mode = 2,\n",
    "               numThreads = -1,\n",
    "              )\n"
   ]
  },
  {
   "cell_type": "code",
   "execution_count": null,
   "metadata": {},
   "outputs": [],
   "source": [
    "type(alpha.A[:,0])"
   ]
  },
  {
   "cell_type": "code",
   "execution_count": null,
   "metadata": {},
   "outputs": [],
   "source": [
    "alpha.toarray()[:,0]"
   ]
  },
  {
   "cell_type": "code",
   "execution_count": null,
   "metadata": {},
   "outputs": [],
   "source": []
  },
  {
   "cell_type": "code",
   "execution_count": null,
   "metadata": {},
   "outputs": [],
   "source": [
    "import SimpleITK as sitk\n",
    "import numpy as np\n",
    "\n",
    "image = sitk.ReadImage(\"./Dataset/data/9001104.nii.gz\")\n",
    "imageSmooth = sitk.SmoothingRecursiveGaussian(image, (0.5, 0.5, 0.5), True)\n",
    "imageCurv = sitk.CurvatureFlow(imageSmooth, 0.05, 5)\n",
    "# imageCurv2 = sitk.CurvatureFlow(image, 0.04, 10)\n",
    "\n",
    "# showImg2_(image, 50)\n",
    "showImg2_(imageSmooth, 50)\n",
    "showImg2_(imageCurv, 50)\n",
    "# showImg2_(imageCurv2, 50)\n"
   ]
  },
  {
   "cell_type": "code",
   "execution_count": null,
   "metadata": {},
   "outputs": [],
   "source": []
  },
  {
   "cell_type": "code",
   "execution_count": null,
   "metadata": {},
   "outputs": [],
   "source": [
    "\n",
    "sitk.WriteImage(sitk.GetImageFromArray(fixedImage), \"fixedImage.mhd\")\n",
    "sitk.WriteImage(sitk.GetImageFromArray(images[0]), \"movingImage.mhd\")\n",
    "sitk.WriteImage(sitk.GetImageFromArray(labels[0]), \"movinglabel.mhd\")\n"
   ]
  },
  {
   "cell_type": "code",
   "execution_count": null,
   "metadata": {},
   "outputs": [],
   "source": [
    "import SimpleITK as sitk\n",
    "import numpy as np\n",
    "\n",
    "fixedImage = sitk.GetArrayFromImage(sitk.ReadImage(\"fixedImage.mhd\"))\n",
    "image = sitk.GetArrayFromImage(sitk.ReadImage(\"movingImage.mhd\"))\n",
    "label = sitk.GetArrayFromImage(sitk.ReadImage(\"movinglabel.mhd\"))\n",
    "\n",
    "fixedImage = np.array(fixedImage, order='C')\n",
    "images = np.array([image], order='C')\n",
    "labels = np.array([label], order='C')"
   ]
  },
  {
   "cell_type": "code",
   "execution_count": null,
   "metadata": {},
   "outputs": [],
   "source": [
    "print(fixedImage.shape)\n",
    "print(images.shape)\n",
    "print(labels.shape)"
   ]
  },
  {
   "cell_type": "code",
   "execution_count": null,
   "metadata": {
    "scrolled": true
   },
   "outputs": [],
   "source": [
    "from cGen import cGen\n",
    "import numpy as np\n",
    "\n",
    "P = [3, 3, 3]\n",
    "N = [5, 5, 5]\n",
    "P = np.array(P, dtype=np.int32)\n",
    "N = np.array(N, dtype=np.int32)\n",
    "\n",
    "segmentationSPBM, segmentationSRC = cGen.applySPBMandSRCSpams(fixedImage, images, \n",
    "# segmentationSPBM, segmentationSRC = cGen.applySPBMandSRC(fixedImage, images, \n",
    "                              labels, 3, P, N, lassoTol=0.001, \n",
    "                              lassoMaxIter=1e4, verboseX=True,  verboseY=False, \n",
    "                              xmin=-1, xmax=-1, ymin=-1, ymax=-1, zmin=60, zmax=61)\n",
    "                              # xmin=60, xmax=61, ymin=-1, ymax=-1, zmin=-1, zmax=-1)\n",
    "                              # xmin=10, xmax=11, ymin=10, ymax=11, zmin=10, zmax=11)"
   ]
  },
  {
   "cell_type": "code",
   "execution_count": null,
   "metadata": {},
   "outputs": [],
   "source": [
    "showImg_(sitk.GetImageFromArray(segmentationSPBM), 60)\n",
    "showImg_(sitk.GetImageFromArray(segmentationSRC), 60)\n",
    "# showImg_(sitk.GetImageFromArray(originalLabel), 60)\n",
    "showImg_(sitk.GetImageFromArray(labels[0]), 60)"
   ]
  },
  {
   "cell_type": "code",
   "execution_count": null,
   "metadata": {},
   "outputs": [],
   "source": [
    "segmentationSRC[segmentationSRC == 3]"
   ]
  },
  {
   "cell_type": "code",
   "execution_count": null,
   "metadata": {},
   "outputs": [],
   "source": [
    "\n",
    "originalLabel = sitk.GetArrayFromImage(sitk.ReadImage(os.path.join(labelPath, testData[0])))\n",
    "translatedSegmentationSPBM = translateToOriginal(segmentationSPBM, \n",
    "                                                 os.path.join(path, testData[0]), \n",
    "                                                 copyShape, \n",
    "                                                 offset, \n",
    "                                                 length)\n",
    "\n",
    "print(Dice(originalLabel, translatedSegmentationSPBM, 3))\n",
    "\n",
    "translatedSegmentationSRC = translateToOriginal(segmentationSRC, \n",
    "                                                os.path.join(path, testData[0]), \n",
    "                                                copyShape, \n",
    "                                                offset, \n",
    "                                                length)\n",
    "\n",
    "print(Dice(originalLabel, translatedSegmentationSRC, 3))"
   ]
  },
  {
   "cell_type": "code",
   "execution_count": null,
   "metadata": {},
   "outputs": [],
   "source": []
  }
 ],
 "metadata": {
  "kernelspec": {
   "display_name": "Python 3",
   "language": "python",
   "name": "python3"
  },
  "language_info": {
   "codemirror_mode": {
    "name": "ipython",
    "version": 3
   },
   "file_extension": ".py",
   "mimetype": "text/x-python",
   "name": "python",
   "nbconvert_exporter": "python",
   "pygments_lexer": "ipython3",
   "version": "3.6.9"
  }
 },
 "nbformat": 4,
 "nbformat_minor": 2
}
