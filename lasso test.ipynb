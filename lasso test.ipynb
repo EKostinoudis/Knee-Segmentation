{
 "cells": [
  {
   "cell_type": "code",
   "execution_count": null,
   "metadata": {},
   "outputs": [],
   "source": [
    "import SimpleITK as sitk\n",
    "import numpy as np"
   ]
  },
  {
   "cell_type": "code",
   "execution_count": null,
   "metadata": {},
   "outputs": [],
   "source": [
    "# Read data\n",
    "reader = sitk.ImageSeriesReader()\n",
    "\n",
    "dicom_names = reader.GetGDCMSeriesFileNames(\"../MRI_Data/Baseline/KL0/9003430/10557212\")\n",
    "reader.SetFileNames(dicom_names)\n",
    "\n",
    "img1 = reader.Execute()\n",
    "\n",
    "dicom_names = reader.GetGDCMSeriesFileNames(\"../MRI_Data/Baseline/KL0/9005075/10593811\")\n",
    "reader.SetFileNames(dicom_names)\n",
    "\n",
    "img2 = reader.Execute()"
   ]
  },
  {
   "cell_type": "code",
   "execution_count": null,
   "metadata": {},
   "outputs": [],
   "source": [
    "# Registration\n",
    "initial_transform = sitk.CenteredTransformInitializer(img1, \n",
    "                                                      img2, \n",
    "                                                      sitk.AffineTransform(3), \n",
    "                                                      sitk.CenteredTransformInitializerFilter.GEOMETRY)\n",
    "registration_method = sitk.ImageRegistrationMethod()\n",
    "\n",
    "registration_method.SetMetricAsMattesMutualInformation(numberOfHistogramBins=50)\n",
    "registration_method.SetMetricSamplingStrategy(registration_method.RANDOM)\n",
    "registration_method.SetMetricSamplingPercentage(0.01)\n",
    "\n",
    "registration_method.SetInterpolator(sitk.sitkLinear)\n",
    "   \n",
    "registration_method.SetOptimizerAsGradientDescent(learningRate=1.0, numberOfIterations=100) #, estimateLearningRate=registration_method.EachIteration)\n",
    "registration_method.SetOptimizerScalesFromPhysicalShift() \n",
    "\n",
    "final_transform = sitk.AffineTransform(initial_transform)\n",
    "\n",
    "registration_method.SetInitialTransform(final_transform)\n",
    "registration_method.SetShrinkFactorsPerLevel(shrinkFactors = [4,2,1])\n",
    "registration_method.SetSmoothingSigmasPerLevel(smoothingSigmas = [2,1,0])\n",
    "registration_method.SmoothingSigmasAreSpecifiedInPhysicalUnitsOn()\n",
    "\n",
    "t = registration_method.Execute(sitk.Cast(img1, sitk.sitkFloat32), sitk.Cast(img2, sitk.sitkFloat32))\n",
    "\n",
    "resample = sitk.ResampleImageFilter()\n",
    "resample.SetReferenceImage(img1)\n",
    "\n",
    "resample.SetInterpolator(sitk.sitkLinear)  \n",
    "resample.SetTransform(t)\n",
    "img2_1 = resample.Execute(img2)"
   ]
  },
  {
   "cell_type": "code",
   "execution_count": null,
   "metadata": {},
   "outputs": [],
   "source": [
    "def createA(images, voxel, P, N):\n",
    "    # Allocate memory\n",
    "    A = np.zeros(shape=(P[0]*P[1]*P[2], len(images)*N[0]*N[1]*N[2]), dtype='uint16')\n",
    "    \n",
    "    index = 0\n",
    "    for image in images:\n",
    "        for n0 in range(-(N[0]-1)//2, (N[0]-1)//2+1):\n",
    "            for n1 in range(-(N[1]-1)//2, (N[1]-1)//2+1):\n",
    "                for n2 in range(-(N[2]-1)//2, (N[2]-1)//2+1):\n",
    "                    v = [voxel[0] + n0, voxel[1] + n1, voxel[2] + n2]\n",
    "                    A[:, index] = sitk.GetArrayFromImage(image[v[0]-(P[0]-1)//2:v[0]+(P[0]-1)//2+1, \n",
    "                                                               v[1]-(P[1]-1)//2:v[1]+(P[1]-1)//2+1, \n",
    "                                                               v[2]-(P[2]-1)//2:v[2]+(P[2]-1)//2+1,\n",
    "                                                              ]).reshape((-1,))\n",
    "                    index += 1\n",
    "                    \n",
    "    return A"
   ]
  },
  {
   "cell_type": "code",
   "execution_count": null,
   "metadata": {},
   "outputs": [],
   "source": [
    "def createB(image, voxel, P):\n",
    "    return sitk.GetArrayFromImage(image[voxel[0]-(P[0]-1)//2:voxel[0]+(P[0]-1)//2+1, \n",
    "                                        voxel[1]-(P[1]-1)//2:voxel[1]+(P[1]-1)//2+1, \n",
    "                                        voxel[2]-(P[2]-1)//2:voxel[2]+(P[2]-1)//2+1,\n",
    "                                       ]).reshape((-1,))\n",
    "    "
   ]
  },
  {
   "cell_type": "code",
   "execution_count": null,
   "metadata": {},
   "outputs": [],
   "source": [
    "from sklearn.linear_model import Lasso\n",
    "\n",
    "v = [100,100,100]\n",
    "P = [3, 3, 3]\n",
    "N = [5, 5, 5]\n",
    "A = createA([img2_1], v, P, N)\n",
    "B = createB(img1, v, P)\n",
    "\n",
    "# lasso = Lasso(alpha=0.0001, positive=True, max_iter=1000000000, tol=0.00000000000001)\n",
    "lasso = Lasso(alpha=100, positive=True, max_iter=1e6)\n",
    "lasso.fit(A,B)"
   ]
  },
  {
   "cell_type": "code",
   "execution_count": null,
   "metadata": {},
   "outputs": [],
   "source": [
    "A @ lasso.coef_ - B\n",
    "lasso.coef_.shape\n"
   ]
  },
  {
   "cell_type": "code",
   "execution_count": null,
   "metadata": {},
   "outputs": [],
   "source": [
    "# P = [3, 3, 3]\n",
    "# N = [5, 5, 5]\n",
    "# size = img1.GetSize()\n",
    "# w = np.zeros(shape=(size[0], size[1], size[2] ,N[0]*N[1]*N[2]))\n",
    "# for x in range(N[0]//2, size[0]-N[0]//2):\n",
    "#     for y in range(N[1]//2, size[1]-N[1]//2):\n",
    "#         for x in range(N[2]//2, size[2]-N[2]//2):\n",
    "#             v = [x, y, z]\n",
    "#             A = createA([img2_1], v, P, N)\n",
    "#             B = createB(img1, v, P)\n",
    "\n",
    "#             lasso = Lasso(alpha=100, positive=True, max_iter=1e6)\n",
    "#             lasso.fit(A,B)\n",
    "#             w[x,y,z,:] = lasso.coef_\n",
    "            "
   ]
  },
  {
   "cell_type": "code",
   "execution_count": null,
   "metadata": {},
   "outputs": [],
   "source": [
    "def labelFusion(w, L):\n",
    "    return np.sum(w*L) / np.sum(w)\n",
    "\n",
    "def segmentation(L):\n",
    "    return 1 if L >= 0.5 else 0\n",
    "\n",
    "def transformSegmentation(original_image, original_segmentation):\n",
    "    return sitk.Resample(original_segmentation, original_image.GetSize(),\n",
    "                         sitk.Transform(), \n",
    "                         sitk.sitkNearestNeighbor,\n",
    "                         original_image.GetOrigin(),\n",
    "                         original_image.GetSpacing(),\n",
    "                         original_image.GetDirection(),\n",
    "                         0,\n",
    "                         original_segmentation.GetPixelID())"
   ]
  },
  {
   "cell_type": "code",
   "execution_count": null,
   "metadata": {},
   "outputs": [],
   "source": [
    "img1_seg = sitk.ReadImage(\"../MRI_Data/Baseline/KL0/9003430/9003430.segmentation_masks.mhd\")\n",
    "img2_seg = sitk.ReadImage(\"../MRI_Data/Baseline/KL0/9005075/9005075.segmentation_masks.mhd\")\n",
    "\n",
    "# img1S = transformSegmentation(img1, img1_seg)\n"
   ]
  },
  {
   "cell_type": "code",
   "execution_count": null,
   "metadata": {},
   "outputs": [],
   "source": [
    "def printData(img):\n",
    "    print(img.GetDirection())\n",
    "    print(img.GetHeight())\n",
    "    print(img.GetOrigin())\n",
    "    print(img.GetSpacing())\n",
    "    print(img.GetDepth())\n",
    "    print(img.GetSize())\n",
    "    print(img.GetWidth())\n",
    "    print(img.GetNumberOfComponentsPerPixel())\n",
    "    "
   ]
  },
  {
   "cell_type": "code",
   "execution_count": null,
   "metadata": {},
   "outputs": [],
   "source": [
    "img2S = transformSegmentation(img2_1, img2_seg)\n",
    "\n",
    "printData(img2_1)\n",
    "printData(img2S)"
   ]
  },
  {
   "cell_type": "code",
   "execution_count": null,
   "metadata": {},
   "outputs": [],
   "source": [
    "print(img1S[v[0], v[1], v[2]])\n",
    "print(img2S[v[0], v[1], v[2]])"
   ]
  },
  {
   "cell_type": "code",
   "execution_count": null,
   "metadata": {},
   "outputs": [],
   "source": [
    "def createL(images, voxel, N):\n",
    "    # Allocate memory\n",
    "    L = np.zeros(shape=(N[0]*N[1]*N[2],), dtype='uint8')\n",
    "    \n",
    "    index = 0\n",
    "    for image in images:\n",
    "        for n0 in range(-(N[0]-1)//2, (N[0]-1)//2+1):\n",
    "            for n1 in range(-(N[1]-1)//2, (N[1]-1)//2+1):\n",
    "                for n2 in range(-(N[2]-1)//2, (N[2]-1)//2+1):\n",
    "                    v = [voxel[0] + n0, voxel[1] + n1, voxel[2] + n2]\n",
    "                    L[index] = image[v[0], v[1], v[2]]\n",
    "                    index += 1\n",
    "                    \n",
    "    return L"
   ]
  },
  {
   "cell_type": "code",
   "execution_count": null,
   "metadata": {},
   "outputs": [],
   "source": [
    "L = createL([img2S], v, N)\n",
    "print(L)"
   ]
  },
  {
   "cell_type": "code",
   "execution_count": null,
   "metadata": {},
   "outputs": [],
   "source": [
    "label = labelFusion(lasso.coef_, L)\n",
    "    \n",
    "segmentation(label)"
   ]
  },
  {
   "cell_type": "code",
   "execution_count": null,
   "metadata": {},
   "outputs": [],
   "source": [
    "print(label)"
   ]
  },
  {
   "cell_type": "code",
   "execution_count": null,
   "metadata": {},
   "outputs": [],
   "source": [
    "from IPython.display import display\n",
    "from PIL import Image as image\n",
    "\n",
    "def showImg(img):\n",
    "    img2 = image.fromarray(sitk.GetArrayFromImage(img[:,:,60])*60, 'L')\n",
    "    display(img2)\n",
    "    \n",
    "def showImg2(img):\n",
    "    img2 = image.fromarray(sitk.GetArrayFromImage(img[60,:,:])*60, 'L')\n",
    "    display(img2)\n",
    "    \n",
    "def showImg3(img):\n",
    "    disImg = image.fromarray(sitk.GetArrayFromImage(img)[60,:,:].astype('uint8'))\n",
    "    display(disImg)\n",
    "    \n",
    "showImg3(img2_1)\n",
    "showImg(img2S)"
   ]
  },
  {
   "cell_type": "code",
   "execution_count": null,
   "metadata": {},
   "outputs": [],
   "source": [
    "print(img2_seg.GetSize())\n",
    "print(img2S.GetSize())"
   ]
  },
  {
   "cell_type": "code",
   "execution_count": null,
   "metadata": {},
   "outputs": [],
   "source": [
    "seg1 = transformSegmentation(img2, img2_seg)\n",
    "seg2 = resample.Execute(seg1)"
   ]
  },
  {
   "cell_type": "code",
   "execution_count": null,
   "metadata": {},
   "outputs": [],
   "source": [
    "def showImg_(img, z=60):\n",
    "    img2 = image.fromarray(sitk.GetArrayFromImage(img[:,:,z])*60, 'L')\n",
    "    img2.show()\n",
    " \n",
    "def showImg2_(img, z=60):\n",
    "    disImg = image.fromarray(sitk.GetArrayFromImage(img[z,:,:]).astype('uint8'))\n",
    "    disImg.show()\n",
    "    \n",
    "def showImg3_(img, z=60, t=''):\n",
    "    disImg = image.fromarray(sitk.GetArrayFromImage(img[:,:,z]).astype('uint8'))\n",
    "    disImg.show(title=t)\n",
    "    \n",
    "def showImg4_(img, z=60):\n",
    "    img2 = image.fromarray(sitk.GetArrayFromImage(img[z,:,:])*60, 'L')\n",
    "    img2.show()"
   ]
  },
  {
   "cell_type": "code",
   "execution_count": null,
   "metadata": {},
   "outputs": [],
   "source": [
    "showImg3_(img2)\n",
    "showImg_(seg1)"
   ]
  },
  {
   "cell_type": "code",
   "execution_count": null,
   "metadata": {},
   "outputs": [],
   "source": [
    "printData(img2)\n",
    "printData(img2_seg)"
   ]
  },
  {
   "cell_type": "code",
   "execution_count": null,
   "metadata": {},
   "outputs": [],
   "source": [
    "showImg3_(img1)\n",
    "showImg3_(img2)"
   ]
  },
  {
   "cell_type": "code",
   "execution_count": null,
   "metadata": {},
   "outputs": [],
   "source": [
    "initial_transform = sitk.CenteredTransformInitializer(img1, \n",
    "                                                      img2, \n",
    "                                                      sitk.AffineTransform(3), \n",
    "                                                      sitk.CenteredTransformInitializerFilter.GEOMETRY)\n",
    "registration_method = sitk.ImageRegistrationMethod()\n",
    "\n",
    "registration_method.SetMetricAsMattesMutualInformation(numberOfHistogramBins=50)\n",
    "registration_method.SetMetricSamplingStrategy(registration_method.RANDOM)\n",
    "registration_method.SetMetricSamplingPercentage(0.01)\n",
    "\n",
    "registration_method.SetInterpolator(sitk.sitkLinear)\n",
    "   \n",
    "registration_method.SetOptimizerAsGradientDescent(learningRate=1.0, numberOfIterations=1000) #, estimateLearningRate=registration_method.EachIteration)\n",
    "registration_method.SetOptimizerScalesFromPhysicalShift() \n",
    "\n",
    "final_transform = sitk.AffineTransform(initial_transform)\n",
    "\n",
    "registration_method.SetInitialTransform(final_transform)\n",
    "registration_method.SetShrinkFactorsPerLevel(shrinkFactors = [4,2,1])\n",
    "registration_method.SetSmoothingSigmasPerLevel(smoothingSigmas = [2,1,0])\n",
    "registration_method.SmoothingSigmasAreSpecifiedInPhysicalUnitsOn()\n",
    "\n",
    "t = registration_method.Execute(sitk.Cast(img1, sitk.sitkFloat32), sitk.Cast(img2, sitk.sitkFloat32))\n",
    "\n",
    "resample = sitk.ResampleImageFilter()\n",
    "resample.SetReferenceImage(img1)\n",
    "\n",
    "resample.SetInterpolator(sitk.sitkLinear)  \n",
    "resample.SetTransform(t)\n",
    "img2_2 = resample.Execute(img2)"
   ]
  },
  {
   "cell_type": "code",
   "execution_count": null,
   "metadata": {},
   "outputs": [],
   "source": [
    "showImg3_(img1)\n",
    "showImg3_(img2_2)"
   ]
  },
  {
   "cell_type": "code",
   "execution_count": null,
   "metadata": {},
   "outputs": [],
   "source": [
    "initial_transform = sitk.CenteredTransformInitializer(sitk.Cast(fixed_image,moving_image.GetPixelID()), \n",
    "                                                      moving_image, \n",
    "                                                      sitk.Euler3DTransform(), \n",
    "                                                      sitk.CenteredTransformInitializerFilter.GEOMETRY)\n",
    "\n",
    "registration_method = sitk.ImageRegistrationMethod()\n",
    "\n",
    "registration_method.SetMetricAsMattesMutualInformation(numberOfHistogramBins=50)\n",
    "registration_method.SetMetricSamplingStrategy(registration_method.RANDOM)\n",
    "registration_method.SetMetricSamplingPercentage(0.01)\n",
    "\n",
    "registration_method.SetInterpolator(sitk.sitkLinear)\n",
    "   \n",
    "registration_method.SetOptimizerAsGradientDescent(learningRate=1.0, numberOfIterations=100) #, estimateLearningRate=registration_method.EachIteration)\n",
    "registration_method.SetOptimizerScalesFromPhysicalShift() \n",
    "\n",
    "final_transform = sitk.Euler3DTransform(initial_transform)\n",
    "registration_method.SetInitialTransform(final_transform)\n",
    "registration_method.SetShrinkFactorsPerLevel(shrinkFactors = [4,2,1])\n",
    "registration_method.SetSmoothingSigmasPerLevel(smoothingSigmas = [2,1,0])\n",
    "registration_method.SmoothingSigmasAreSpecifiedInPhysicalUnitsOn()\n",
    "\n",
    "registration_method.Execute(sitk.Cast(fixed_image, sitk.sitkFloat32), \n",
    "                            sitk.Cast(moving_image, sitk.sitkFloat32))\n",
    "\n",
    "resample = sitk.ResampleImageFilter()\n",
    "resample.SetReferenceImage(fixed_image)\n",
    "\n",
    "# SimpleITK supports several interpolation options, we go with the simplest that gives reasonable results.     \n",
    "resample.SetInterpolator(sitk.sitkLinear)  \n",
    "resample.SetTransform(final_transform)\n",
    "img2_3 = resample.Execute(moving_image)"
   ]
  },
  {
   "cell_type": "code",
   "execution_count": null,
   "metadata": {},
   "outputs": [],
   "source": [
    "z = 50\n",
    "showImg3_(img1, z)\n",
    "showImg_(img1S, z)"
   ]
  },
  {
   "cell_type": "code",
   "execution_count": null,
   "metadata": {},
   "outputs": [],
   "source": [
    "def transformSegmentation2(original_image, original_segmentation):\n",
    "    return sitk.Resample(original_segmentation, \n",
    "                         original_image,\n",
    "                         sitk.sitk.Transform()(), \n",
    "                         sitk.sitkLinear,\n",
    "                         0,\n",
    "                         original_segmentation.GetPixelID())\n",
    "img1S2 = transformSegmentation2(img1, img1_seg)"
   ]
  },
  {
   "cell_type": "code",
   "execution_count": null,
   "metadata": {},
   "outputs": [],
   "source": [
    "img1_1 = transformSegmentation2(img1_seg, img1)"
   ]
  },
  {
   "cell_type": "code",
   "execution_count": null,
   "metadata": {},
   "outputs": [],
   "source": [
    "def showImg_(img, z=60):\n",
    "    img2 = image.fromarray(sitk.GetArrayFromImage(img[:,:,z])*60, 'L')\n",
    "    img2.show()\n",
    "    \n",
    "def showImg3_(img, z=60):\n",
    "#     disImg = image.fromarray(sitk.GetArrayFromImage(img[:,:,z]).astype('uint8'))\n",
    "    a = sitk.GetArrayFromImage(img[:,:,z])\n",
    "    disImg = image.fromarray(np.interp(a, (a.min(), a.max()), (0, 255)).astype('uint8'))\n",
    "#     np.interp(a, (0, 65535), (0, 255))\n",
    "    disImg.show()\n",
    "    \n",
    "def showImg4_(img, z=60):\n",
    "    disImg = image.fromarray(sitk.GetArrayFromImage(img[:,:,z]), 'RGB')\n",
    "    disImg.show()\n",
    "    \n",
    "def showImg2_(img, z=60):\n",
    "#     disImg = image.fromarray(sitk.GetArrayFromImage(img[:,:,z]).astype('uint8'))\n",
    "    a = sitk.GetArrayFromImage(img[:,:,z])/2\n",
    "    disImg = image.fromarray(np.interp(a, (a.min(), a.max()), (0, 255)).astype('uint8'))\n",
    "#     np.interp(a, (0, 65535), (0, 255))\n",
    "    disImg.show()"
   ]
  },
  {
   "cell_type": "code",
   "execution_count": null,
   "metadata": {},
   "outputs": [],
   "source": [
    "def transformSegmentation(originalImage, originalSegmentation):\n",
    "    initialTransform = sitk.CenteredTransformInitializer(sitk.Cast(originalImage,originalSegmentation.GetPixelID()), \n",
    "                                                      originalSegmentation, \n",
    "                                                      sitk.Euler3DTransform(), \n",
    "                                                      sitk.CenteredTransformInitializerFilter.GEOMETRY)\n",
    "    \n",
    "    return sitk.Resample(originalSegmentation, originalImage.GetSize(),\n",
    "                         initialTransform, \n",
    "                         sitk.sitkNearestNeighbor,\n",
    "                         originalImage.GetOrigin(),\n",
    "                         originalImage.GetSpacing(),\n",
    "                         originalImage.GetDirection(),\n",
    "                         0,\n",
    "                         originalSegmentation.GetPixelID())"
   ]
  },
  {
   "cell_type": "code",
   "execution_count": null,
   "metadata": {},
   "outputs": [],
   "source": [
    "def transformSegmentation2(originalImage, originalSegmentation):\n",
    "#     initialTransform = sitk.CenteredTransformInitializer(sitk.Cast(originalImage,originalSegmentation.GetPixelID()), \n",
    "#                                                       originalSegmentation, \n",
    "#                                                       sitk.Euler3DTransform(), \n",
    "#                                                       sitk.CenteredTransformInitializerFilter.GEOMETRY)\n",
    "    \n",
    "    return sitk.Resample(originalSegmentation, \n",
    "                         originalImage.GetSize(),\n",
    "#                          initialTransform,\n",
    "                         sitk.Transform(),\n",
    "                         sitk.sitkNearestNeighbor,\n",
    "                         originalImage.GetOrigin(),\n",
    "                         originalImage.GetSpacing(),\n",
    "                         originalImage.GetDirection(),\n",
    "                         0,\n",
    "                         originalSegmentation.GetPixelID())"
   ]
  },
  {
   "cell_type": "code",
   "execution_count": null,
   "metadata": {},
   "outputs": [],
   "source": [
    "img1S = transformSegmentation(img1, img1_seg)"
   ]
  },
  {
   "cell_type": "code",
   "execution_count": null,
   "metadata": {},
   "outputs": [],
   "source": [
    "img1S1 = transformSegmentation2(img1, img1_seg)"
   ]
  },
  {
   "cell_type": "code",
   "execution_count": null,
   "metadata": {},
   "outputs": [],
   "source": [
    "img11 = transformSegmentation2(img1_seg, img1)"
   ]
  },
  {
   "cell_type": "code",
   "execution_count": null,
   "metadata": {},
   "outputs": [],
   "source": [
    "z = 60\n",
    "showImg3_(img1, z)\n",
    "showImg_(img1S1, z)\n",
    "showImg_(img1S, z)"
   ]
  },
  {
   "cell_type": "code",
   "execution_count": null,
   "metadata": {},
   "outputs": [],
   "source": [
    "img1_seg.GetSize()"
   ]
  },
  {
   "cell_type": "code",
   "execution_count": null,
   "metadata": {},
   "outputs": [],
   "source": [
    "z = 90\n",
    "showImg3_(img1, z)\n",
    "showImg_(img1S2, z)"
   ]
  },
  {
   "cell_type": "code",
   "execution_count": null,
   "metadata": {},
   "outputs": [],
   "source": [
    "def print_image_info(img):\n",
    "\n",
    "    print (\"Size:      %d   %d   %d\"   % (img.GetSize   ()[0], img.GetSize   ()[1], img.GetSize   ()[2]))\n",
    "    print (\"Spacing:   %.2f %.2f %.2f\" % (img.GetSpacing()[0], img.GetSpacing()[1], img.GetSpacing()[2]))\n",
    "    print (\"Origin:    %.2f %.2f %.2f\" % (img.GetOrigin ()[0], img.GetOrigin ()[1], img.GetOrigin ()[2]))\n",
    "    print (\"Direction: \\n%.2f %.2f %.2f \\n%.2f %.2f %.2f \\n%.2f %.2f %.2f\" %     \\\n",
    "           (img.GetDirection()[0], img.GetDirection()[1], img.GetDirection()[2], \\\n",
    "            img.GetDirection()[3], img.GetDirection()[4], img.GetDirection()[5], \\\n",
    "            img.GetDirection()[6], img.GetDirection()[7], img.GetDirection()[8]))\n",
    "\n"
   ]
  },
  {
   "cell_type": "code",
   "execution_count": null,
   "metadata": {},
   "outputs": [],
   "source": [
    "print_image_info(img1)\n",
    "print_image_info(img1S)"
   ]
  },
  {
   "cell_type": "code",
   "execution_count": null,
   "metadata": {},
   "outputs": [],
   "source": [
    "z = 80\n",
    "showImg3_(img1, z)\n",
    "showImg3_(img1S, z)"
   ]
  },
  {
   "cell_type": "code",
   "execution_count": null,
   "metadata": {},
   "outputs": [],
   "source": [
    "import matplotlib.pyplot as plt\n",
    "\n",
    "mr_image = img1\n",
    "npa = sitk.GetArrayViewFromImage(mr_image)\n",
    "\n",
    "# Display the image slice from the middle of the stack, z axis\n",
    "z = int(mr_image.GetDepth()/2)\n",
    "npa_zslice = sitk.GetArrayViewFromImage(mr_image)[z,:,:]\n",
    "\n",
    "# Three plots displaying the same data, how do we deal with the high dynamic range?\n",
    "fig = plt.figure(figsize=(20,6))\n",
    "\n",
    "fig.add_subplot(1,3,1)\n",
    "plt.imshow(npa_zslice)\n",
    "plt.title('default colormap', fontsize=10)\n",
    "plt.axis('off')\n",
    "\n",
    "fig.add_subplot(1,3,2)\n",
    "plt.imshow(npa_zslice,cmap=plt.cm.Greys_r);\n",
    "plt.title('grey colormap', fontsize=10)\n",
    "plt.axis('off')\n",
    "\n",
    "fig.add_subplot(1,3,3)\n",
    "# plt.title('grey colormap,\\n scaling based on volumetric min and max values', fontsize=10)\n",
    "# plt.imshow(npa_zslice,cmap=plt.cm.Greys_r, vmin=npa.min(), vmax=npa.max())\n",
    "# plt.axis('off');\n",
    "plt.imshow(sitk.GetArrayViewFromImage(img1S[:,:,z])*60,cmap=plt.cm.Greys_r)\n",
    "plt.axis('off');"
   ]
  },
  {
   "cell_type": "code",
   "execution_count": null,
   "metadata": {},
   "outputs": [],
   "source": [
    "z = 80\n",
    "showImg3_(img1, z)\n",
    "showImg3_(img1S, z)"
   ]
  },
  {
   "cell_type": "code",
   "execution_count": null,
   "metadata": {},
   "outputs": [],
   "source": [
    "pink= [255,105,180]\n",
    "green = [0,255,0]\n",
    "gold = [255,215,0]\n",
    "red = [255,0,0]\n",
    "blue = [0,0,255]\n",
    "\n",
    "comp = sitk.LabelOverlay(image=img1, \n",
    "                         labelImage=img1S, \n",
    "                         opacity=0.0005, \n",
    "                         backgroundValue=0,\n",
    "                         colormap=blue+red+green+pink)\n",
    "# showImg3_(comp, z)"
   ]
  },
  {
   "cell_type": "code",
   "execution_count": null,
   "metadata": {},
   "outputs": [],
   "source": [
    "z = 60\n",
    "plt.figure(figsize=(20,10))\n",
    "plt.imshow(sitk.GetArrayViewFromImage(comp[:,:,z]))\n"
   ]
  },
  {
   "cell_type": "code",
   "execution_count": null,
   "metadata": {},
   "outputs": [],
   "source": [
    "showImg3_(comp, z)\n",
    "showImg3_(img1, z)"
   ]
  },
  {
   "cell_type": "code",
   "execution_count": null,
   "metadata": {},
   "outputs": [],
   "source": [
    "contour_image = sitk.LabelToRGB(sitk.LabelContour(img1S, fullyConnected=True, backgroundValue=255), \n",
    "                                colormap=blue+red+green+pink , backgroundValue=255)"
   ]
  },
  {
   "cell_type": "code",
   "execution_count": null,
   "metadata": {},
   "outputs": [],
   "source": [
    "showImg3_(contour_image, z)"
   ]
  },
  {
   "cell_type": "code",
   "execution_count": null,
   "metadata": {},
   "outputs": [],
   "source": [
    "contour_overlaid_image = sitk.LabelMapContourOverlay(sitk.Cast(img1S, sitk.sitkLabelUInt8), \n",
    "#                                                      img1,\n",
    "                                                     sitk.Cast(img1, sitk.sitkUInt8),\n",
    "                                                     opacity = 1, \n",
    "                                                     contourThickness=[1,1,1],\n",
    "                                                     dilationRadius= [1,1,1],\n",
    "                                                     colormap=blue+red+green+pink)\n",
    "#                                                      colormap=blue+red)\n",
    "# showImg3_(contour_overlaid_image, z)"
   ]
  },
  {
   "cell_type": "code",
   "execution_count": null,
   "metadata": {},
   "outputs": [],
   "source": [
    "z = 50\n",
    "plt.figure(figsize=(20,10))\n",
    "plt.imshow(sitk.GetArrayViewFromImage(contour_overlaid_image[:,:,z]))\n",
    "# plt.savefig('seg1.jpg')"
   ]
  },
  {
   "cell_type": "code",
   "execution_count": null,
   "metadata": {},
   "outputs": [],
   "source": [
    "img1S1 = np.rollaxis(np.rollaxis(sitk.GetArrayViewFromImage(img1_seg), 0, 2), 0, 2)"
   ]
  },
  {
   "cell_type": "code",
   "execution_count": null,
   "metadata": {},
   "outputs": [],
   "source": [
    "np.rollaxis(np.rollaxis(sitk.GetArrayViewFromImage(img1_seg), 0, 2), 1, -1).shape"
   ]
  },
  {
   "cell_type": "code",
   "execution_count": null,
   "metadata": {},
   "outputs": [],
   "source": [
    "z = 60\n",
    "plt.figure(figsize=(20,10))\n",
    "plt.imshow(img1S1[::-1,:,z])\n",
    "\n",
    "# z = 60\n",
    "# plt.figure(figsize=(20,10))\n",
    "# plt.imshow(sitk.GetArrayViewFromImage(img1[:,:,z]),cmap=plt.cm.Greys_r)"
   ]
  },
  {
   "cell_type": "code",
   "execution_count": null,
   "metadata": {},
   "outputs": [],
   "source": [
    "showImg3_(img1, z)"
   ]
  },
  {
   "cell_type": "code",
   "execution_count": null,
   "metadata": {},
   "outputs": [],
   "source": [
    "img1F = sitk.AdaptiveHistogramEqualization(img1, alpha=0.3, beta=0.3)\n",
    "img1F1 = sitk.AdaptiveHistogramEqualization(img1, alpha=0.1, beta=0.3)\n",
    "img1F2 = sitk.AdaptiveHistogramEqualization(img1, alpha=0.3, beta=0.1)"
   ]
  },
  {
   "cell_type": "code",
   "execution_count": null,
   "metadata": {},
   "outputs": [],
   "source": [
    "img1F3 = sitk.AdaptiveHistogramEqualization(img1, alpha=0.8, beta=0.3)\n",
    "img1F4 = sitk.AdaptiveHistogramEqualization(img1, alpha=0.3, beta=0.8)"
   ]
  },
  {
   "cell_type": "code",
   "execution_count": null,
   "metadata": {},
   "outputs": [],
   "source": [
    "img1F5 = sitk.AdaptiveHistogramEqualization(img1, alpha=0.8, beta=0.1)\n",
    "img1F6 = sitk.AdaptiveHistogramEqualization(img1, alpha=0.6, beta=0.05)"
   ]
  },
  {
   "cell_type": "code",
   "execution_count": null,
   "metadata": {},
   "outputs": [],
   "source": [
    "img1F7 = sitk.AdaptiveHistogramEqualization(img1, alpha=0.3, beta=0.2)"
   ]
  },
  {
   "cell_type": "code",
   "execution_count": null,
   "metadata": {},
   "outputs": [],
   "source": [
    "# img1F8 = sitk.AdaptiveHistogramEqualization(img1, alpha=0.3, beta=0.2, radius = np.ones(3, dtype='uint8')*3)\n",
    "img1F8 = sitk.AdaptiveHistogramEqualization(img1, alpha=0.3, beta=0.2, radius = [3,3,3])"
   ]
  },
  {
   "cell_type": "code",
   "execution_count": null,
   "metadata": {},
   "outputs": [],
   "source": [
    "\n",
    "img1F9 = sitk.AdaptiveHistogramEqualization(img1, alpha=0.3, beta=0.2, radius = [7,7,7])\n",
    "img1F10 = sitk.AdaptiveHistogramEqualization(img1, alpha=0.3, beta=0.2, radius = [9,9,9])"
   ]
  },
  {
   "cell_type": "code",
   "execution_count": null,
   "metadata": {},
   "outputs": [],
   "source": [
    "img2F = sitk.AdaptiveHistogramEqualization(img2, alpha=0.3, beta=0.3)"
   ]
  },
  {
   "cell_type": "code",
   "execution_count": null,
   "metadata": {},
   "outputs": [],
   "source": [
    "z = 60\n",
    "plt.figure(figsize=(30,20))\n",
    "\n",
    "plt.subplot(4, 3, 1)\n",
    "plt.imshow(sitk.GetArrayViewFromImage(img1[:,:,z]), cmap=\"gray\", vmin=0, vmax=4096)\n",
    "\n",
    "plt.subplot(4, 3, 2)\n",
    "plt.imshow(sitk.GetArrayViewFromImage(img1F[:,:,z]), cmap=\"gray\", vmin=0, vmax=4096)\n",
    "\n",
    "plt.subplot(4, 3, 3)\n",
    "plt.imshow(sitk.GetArrayViewFromImage(img1F1[:,:,z]), cmap=\"gray\", vmin=0, vmax=4096)\n",
    "\n",
    "plt.subplot(4, 3, 4)\n",
    "plt.imshow(sitk.GetArrayViewFromImage(img1F2[:,:,z]), cmap=\"gray\", vmin=0, vmax=4096)\n",
    "\n",
    "plt.subplot(4, 3, 5)\n",
    "plt.imshow(sitk.GetArrayViewFromImage(img1F3[:,:,z]), cmap=\"gray\", vmin=0, vmax=4096)\n",
    "\n",
    "plt.subplot(4, 3, 6)\n",
    "plt.imshow(sitk.GetArrayViewFromImage(img1F4[:,:,z]), cmap=\"gray\", vmin=0, vmax=4096)\n",
    "\n",
    "plt.subplot(4, 3, 7)\n",
    "plt.imshow(sitk.GetArrayViewFromImage(img1F5[:,:,z]), cmap=\"gray\", vmin=0, vmax=4096)\n",
    "\n",
    "plt.subplot(4, 3, 8)\n",
    "plt.imshow(sitk.GetArrayViewFromImage(img1F6[:,:,z]), cmap=\"gray\", vmin=0, vmax=4096)\n",
    "\n",
    "plt.subplot(4, 3, 9)\n",
    "plt.imshow(sitk.GetArrayViewFromImage(img1F7[:,:,z]), cmap=\"gray\", vmin=0, vmax=4096)\n",
    "\n",
    "plt.subplot(4, 3, 10)\n",
    "plt.imshow(sitk.GetArrayViewFromImage(img1F8[:,:,z]), cmap=\"gray\", vmin=0, vmax=4096)\n",
    "\n",
    "plt.subplot(4, 3, 11)\n",
    "plt.imshow(sitk.GetArrayViewFromImage(img1F9[:,:,z]), cmap=\"gray\", vmin=0, vmax=4096)\n",
    "\n",
    "plt.subplot(4, 3, 12)\n",
    "plt.imshow(sitk.GetArrayViewFromImage(img1F10[:,:,z]), cmap=\"gray\", vmin=0, vmax=4096)"
   ]
  },
  {
   "cell_type": "code",
   "execution_count": null,
   "metadata": {},
   "outputs": [],
   "source": [
    "z = 60\n",
    "plt.figure(figsize=(10,10))\n",
    "\n",
    "plt.subplot(2, 2, 1)\n",
    "plt.imshow(sitk.GetArrayViewFromImage(img1F7[:,:,z]), cmap=\"gray\", vmin=0, vmax=4096)\n",
    "\n",
    "plt.subplot(2, 2, 2)\n",
    "plt.imshow(sitk.GetArrayViewFromImage(img1F8[:,:,z]), cmap=\"gray\", vmin=0, vmax=4096)\n",
    "\n",
    "plt.subplot(2, 2, 3)\n",
    "plt.imshow(sitk.GetArrayViewFromImage(img1F9[:,:,z]), cmap=\"gray\", vmin=0, vmax=4096)\n",
    "\n",
    "plt.subplot(2, 2, 4)\n",
    "plt.imshow(sitk.GetArrayViewFromImage(img1F10[:,:,z]), cmap=\"gray\", vmin=0, vmax=4096)"
   ]
  },
  {
   "cell_type": "code",
   "execution_count": null,
   "metadata": {},
   "outputs": [],
   "source": [
    "z = 60\n",
    "plt.figure(figsize=(10,10))\n",
    "\n",
    "plt.subplot(2, 2, 1)\n",
    "plt.imshow(sitk.GetArrayViewFromImage(img1[:,:,z]), cmap=\"gray\", vmin=0, vmax=2092)\n",
    "\n",
    "plt.subplot(2, 2, 2)\n",
    "plt.imshow(sitk.GetArrayViewFromImage(img2[:,:,z]), cmap=\"gray\", vmin=0, vmax=2092)\n",
    "\n",
    "plt.subplot(2, 2, 3)\n",
    "plt.imshow(sitk.GetArrayViewFromImage(img1F[:,:,z]), cmap=\"gray\", vmin=0, vmax=4096)\n",
    "\n",
    "plt.subplot(2, 2, 4)\n",
    "plt.imshow(sitk.GetArrayViewFromImage(img2F[:,:,z]), cmap=\"gray\", vmin=0, vmax=4096)"
   ]
  },
  {
   "cell_type": "code",
   "execution_count": null,
   "metadata": {},
   "outputs": [],
   "source": [
    "def transformSegmentation3(originalImage, originalSegmentation):\n",
    "    initialTransform = sitk.CenteredTransformInitializer(originalImage, \n",
    "                                                      sitk.Cast(originalSegmentation,originalImage.GetPixelID()),\n",
    "                                                      sitk.Euler3DTransform(), \n",
    "#                                                          sitk.AffineTransform(3), \n",
    "                                                      sitk.CenteredTransformInitializerFilter.GEOMETRY)\n",
    "    \n",
    "    return sitk.Resample(originalSegmentation, originalImage.GetSize(),\n",
    "                         initialTransform, \n",
    "                         sitk.sitkNearestNeighbor,\n",
    "                         originalImage.GetOrigin(),\n",
    "                         originalImage.GetSpacing(),\n",
    "                         originalImage.GetDirection(),\n",
    "                         0,\n",
    "                         originalSegmentation.GetPixelID())\n",
    "\n",
    "#     return sitk.Resample(originalSegmentation, \n",
    "#                          originalImage.GetSize(),\n",
    "#                          sitk.Transform(),\n",
    "#                          sitk.sitkNearestNeighbor,\n",
    "#                          originalImage.GetOrigin(),\n",
    "#                          originalImage.GetSpacing(),\n",
    "#                          originalImage.GetDirection(),\n",
    "#                          0,\n",
    "#                          originalSegmentation.GetPixelID())"
   ]
  },
  {
   "cell_type": "code",
   "execution_count": null,
   "metadata": {},
   "outputs": [],
   "source": [
    "img1S1 = transformSegmentation(img1, img1_seg)\n",
    "img1S2 = transformSegmentation2(img1, img1_seg)\n",
    "img1S3 = transformSegmentation3(img1, img1_seg)\n",
    "img1S32 = transformSegmentation3(img1, img1_seg2)"
   ]
  },
  {
   "cell_type": "code",
   "execution_count": null,
   "metadata": {},
   "outputs": [],
   "source": [
    "print(img1S1.GetSize())\n",
    "print(img1S2.GetSize())\n",
    "print(img1S3.GetSize())"
   ]
  },
  {
   "cell_type": "code",
   "execution_count": null,
   "metadata": {},
   "outputs": [],
   "source": [
    "z = 90\n",
    "showImg3_(img1, z)\n",
    "showImg_(img1S3, z)\n",
    "showImg_(img1S32, z)"
   ]
  },
  {
   "cell_type": "code",
   "execution_count": null,
   "metadata": {},
   "outputs": [],
   "source": [
    "img12 = sitk.ReadImage(\"9003430i.nii\")"
   ]
  },
  {
   "cell_type": "code",
   "execution_count": null,
   "metadata": {},
   "outputs": [],
   "source": [
    "img12.GetSize()"
   ]
  },
  {
   "cell_type": "code",
   "execution_count": null,
   "metadata": {},
   "outputs": [],
   "source": [
    "z = 60\n",
    "showImg2_(img12, z)\n",
    "showImg4_(img1_seg2, z)"
   ]
  },
  {
   "cell_type": "code",
   "execution_count": null,
   "metadata": {},
   "outputs": [],
   "source": [
    "a = sitk.GetArrayViewFromImage(img1_seg2)\n",
    "b = sitk.GetArrayViewFromImage(img1_seg)"
   ]
  },
  {
   "cell_type": "code",
   "execution_count": null,
   "metadata": {},
   "outputs": [],
   "source": [
    "np.unique(a)"
   ]
  },
  {
   "cell_type": "code",
   "execution_count": null,
   "metadata": {},
   "outputs": [],
   "source": [
    "for i in range(a.shape[0]):\n",
    "    for j in range(a.shape[1]):\n",
    "        for k in range(a.shape[2]):\n",
    "            if a[i,j,k] != b[i,j,k]:\n",
    "                if a[i,j,k] == 5 and b[i,j,k] == 4:\n",
    "                    continue\n",
    "                print(i,j,k)\n",
    "                    "
   ]
  },
  {
   "cell_type": "code",
   "execution_count": null,
   "metadata": {},
   "outputs": [],
   "source": [
    "showImg4_(img1_seg2, z)\n",
    "showImg4_(img1_seg, z)"
   ]
  },
  {
   "cell_type": "code",
   "execution_count": null,
   "metadata": {},
   "outputs": [],
   "source": [
    "def transformSegmentation4(originalImage, originalSegmentation):\n",
    "    initialTransform = sitk.CenteredTransformInitializer(sitk.Cast(originalSegmentation, originalImage.GetPixelID()),\n",
    "                                                      originalImage,\n",
    "#                                                       sitk.Euler3DTransform(), \n",
    "                                                         sitk.AffineTransform(3), \n",
    "                                                      sitk.CenteredTransformInitializerFilter.GEOMETRY)\n",
    "    \n",
    "    return sitk.Resample(originalImage, originalSegmentation.GetSize(),\n",
    "                         initialTransform, \n",
    "                         sitk.sitkLinear,\n",
    "                         originalSegmentation.GetOrigin(),\n",
    "                         originalSegmentation.GetSpacing(),\n",
    "                         originalSegmentation.GetDirection(),\n",
    "                         0,\n",
    "                         originalImage.GetPixelID())\n",
    "    "
   ]
  },
  {
   "cell_type": "code",
   "execution_count": null,
   "metadata": {},
   "outputs": [],
   "source": [
    "img13 = transformSegmentation4(img1, img1_seg)"
   ]
  },
  {
   "cell_type": "code",
   "execution_count": null,
   "metadata": {},
   "outputs": [],
   "source": [
    "z = 60\n",
    "showImg2_(img12, z)\n",
    "showImg2_(img13, z)\n",
    "showImg4_(img1_seg2, z)"
   ]
  },
  {
   "cell_type": "code",
   "execution_count": null,
   "metadata": {},
   "outputs": [],
   "source": [
    "def registration(fixedImage, movingImage):\n",
    "    initial_transform = sitk.CenteredTransformInitializer(fixedImage, \n",
    "                                                      movingImage, \n",
    "                                                      sitk.AffineTransform(3),\n",
    "#                                                       sitk.Euler3DTransform(),\n",
    "                                                      sitk.CenteredTransformInitializerFilter.GEOMETRY)\n",
    "    registration_method = sitk.ImageRegistrationMethod()\n",
    "\n",
    "    registration_method.SetMetricAsMattesMutualInformation(numberOfHistogramBins=50)\n",
    "    registration_method.SetMetricSamplingStrategy(registration_method.RANDOM)\n",
    "    registration_method.SetMetricSamplingPercentage(0.01)\n",
    "\n",
    "    registration_method.SetInterpolator(sitk.sitkLinear)\n",
    "\n",
    "    registration_method.SetOptimizerAsGradientDescent(learningRate=1.0, numberOfIterations=100)\n",
    "    registration_method.SetOptimizerScalesFromPhysicalShift() \n",
    "\n",
    "    final_transform = sitk.AffineTransform(initial_transform)\n",
    "\n",
    "    registration_method.SetInitialTransform(final_transform)\n",
    "    registration_method.SetShrinkFactorsPerLevel(shrinkFactors = [4,2,1])\n",
    "    registration_method.SetSmoothingSigmasPerLevel(smoothingSigmas = [2,1,0])\n",
    "    registration_method.SmoothingSigmasAreSpecifiedInPhysicalUnitsOn()\n",
    "\n",
    "    t = registration_method.Execute(sitk.Cast(fixedImage, sitk.sitkFloat32), sitk.Cast(movingImage, sitk.sitkFloat32))\n",
    "\n",
    "    resample = sitk.ResampleImageFilter()\n",
    "    resample.SetReferenceImage(fixedImage)\n",
    "\n",
    "    resample.SetInterpolator(sitk.sitkLinear)  \n",
    "    resample.SetTransform(t)\n",
    "    \n",
    "    return resample.Execute(movingImage)"
   ]
  },
  {
   "cell_type": "code",
   "execution_count": null,
   "metadata": {},
   "outputs": [],
   "source": [
    "def registration2(fixedImage, movingImage):\n",
    "    initial_transform = sitk.CenteredTransformInitializer(fixedImage, \n",
    "                                                      movingImage, \n",
    "                                                      sitk.AffineTransform(3),\n",
    "#                                                       sitk.Euler3DTransform(),\n",
    "                                                      sitk.CenteredTransformInitializerFilter.GEOMETRY)\n",
    "    registration_method = sitk.ImageRegistrationMethod()\n",
    "\n",
    "    registration_method.SetMetricAsMattesMutualInformation(numberOfHistogramBins=400)\n",
    "    registration_method.SetMetricSamplingStrategy(registration_method.NONE) # REGULAR RANDOM NONE\n",
    "    registration_method.SetMetricSamplingPercentage(0.1)\n",
    "\n",
    "    registration_method.SetInterpolator(sitk.sitkLinear)\n",
    "\n",
    "    registration_method.SetOptimizerAsGradientDescent(learningRate=1.0, numberOfIterations=100)\n",
    "    registration_method.SetOptimizerScalesFromPhysicalShift() \n",
    "\n",
    "#     final_transform = sitk.Euler3DTransform(initial_transform)\n",
    "    final_transform = sitk.AffineTransform(initial_transform)\n",
    "\n",
    "    registration_method.SetInitialTransform(final_transform)\n",
    "    registration_method.SetShrinkFactorsPerLevel(shrinkFactors = [4,2,1])\n",
    "    registration_method.SetSmoothingSigmasPerLevel(smoothingSigmas = [2,1,0])\n",
    "    registration_method.SmoothingSigmasAreSpecifiedInPhysicalUnitsOn()\n",
    "\n",
    "    t = registration_method.Execute(sitk.Cast(fixedImage, sitk.sitkFloat32), sitk.Cast(movingImage, sitk.sitkFloat32))\n",
    "\n",
    "    resample = sitk.ResampleImageFilter()\n",
    "    resample.SetReferenceImage(fixedImage)\n",
    "\n",
    "    resample.SetInterpolator(sitk.sitkLinear)  \n",
    "    resample.SetTransform(t)\n",
    "    \n",
    "    return resample.Execute(movingImage)"
   ]
  },
  {
   "cell_type": "code",
   "execution_count": null,
   "metadata": {},
   "outputs": [],
   "source": [
    "img22_3 = registration2(img1, img2_2)"
   ]
  },
  {
   "cell_type": "code",
   "execution_count": null,
   "metadata": {},
   "outputs": [],
   "source": [
    "img23_3 = registration2(img1, img2_2)"
   ]
  },
  {
   "cell_type": "code",
   "execution_count": null,
   "metadata": {},
   "outputs": [],
   "source": [
    "img24_3 = registration2(img1, img2_2)"
   ]
  },
  {
   "cell_type": "code",
   "execution_count": null,
   "metadata": {},
   "outputs": [],
   "source": [
    "img25_3 = registration2(img1, img2_2)"
   ]
  },
  {
   "cell_type": "code",
   "execution_count": null,
   "metadata": {},
   "outputs": [],
   "source": [
    "img35_2 = registration2(img1, img3_2)"
   ]
  },
  {
   "cell_type": "code",
   "execution_count": null,
   "metadata": {},
   "outputs": [],
   "source": [
    "z = 80\n",
    "showImg3_(img1, z, \"1\")\n",
    "# showImg3_(img25_3, z, \"2\")\n",
    "showImg3_(img35_2, z, \"2\")"
   ]
  },
  {
   "cell_type": "code",
   "execution_count": null,
   "metadata": {},
   "outputs": [],
   "source": [
    "img21 = registration(img1, img2)"
   ]
  },
  {
   "cell_type": "code",
   "execution_count": null,
   "metadata": {},
   "outputs": [],
   "source": [
    "img22 = registration2(img1, img2)"
   ]
  },
  {
   "cell_type": "code",
   "execution_count": null,
   "metadata": {},
   "outputs": [],
   "source": [
    "img23 = registration2(img1, img2)"
   ]
  },
  {
   "cell_type": "code",
   "execution_count": null,
   "metadata": {},
   "outputs": [],
   "source": [
    "img24 = registration2(img1, img2)"
   ]
  },
  {
   "cell_type": "code",
   "execution_count": null,
   "metadata": {},
   "outputs": [],
   "source": [
    "img31 = registration2(img1, img3)"
   ]
  },
  {
   "cell_type": "code",
   "execution_count": null,
   "metadata": {},
   "outputs": [],
   "source": [
    "z = 60\n",
    "showImg3_(img1, z, \"1\")\n",
    "showImg3_(img25, z, \"2\")\n",
    "showImg3_(img31, z, \"3\")"
   ]
  },
  {
   "cell_type": "code",
   "execution_count": null,
   "metadata": {},
   "outputs": [],
   "source": [
    "# img1_1 = sitk.AdaptiveHistogramEqualization(img1)\n",
    "# img2_1 = sitk.AdaptiveHistogramEqualization(img2)\n",
    "img3_1 = sitk.AdaptiveHistogramEqualization(img3)"
   ]
  },
  {
   "cell_type": "code",
   "execution_count": null,
   "metadata": {},
   "outputs": [],
   "source": [
    "def registration3(fixedImage, movingImage):\n",
    "    initial_transform = sitk.CenteredTransformInitializer(fixedImage, \n",
    "                                                      movingImage, \n",
    "#                                                       sitk.AffineTransform(3),\n",
    "                                                      sitk.Euler3DTransform(),\n",
    "                                                      sitk.CenteredTransformInitializerFilter.GEOMETRY)\n",
    "    registration_method = sitk.ImageRegistrationMethod()\n",
    "\n",
    "    registration_method.SetMetricAsMattesMutualInformation(numberOfHistogramBins=100)\n",
    "    registration_method.SetMetricSamplingStrategy(registration_method.NONE) # REGULAR RANDOM NONE\n",
    "    registration_method.SetMetricSamplingPercentage(0.1) # 0.5\n",
    "\n",
    "    registration_method.SetInterpolator(sitk.sitkLinear)\n",
    "\n",
    "    registration_method.SetOptimizerAsGradientDescent(learningRate=1.0, numberOfIterations=500)\n",
    "    registration_method.SetOptimizerScalesFromPhysicalShift() \n",
    "\n",
    "    final_transform = sitk.Euler3DTransform(initial_transform)\n",
    "\n",
    "    registration_method.SetInitialTransform(final_transform)\n",
    "    registration_method.SetShrinkFactorsPerLevel(shrinkFactors = [4,2,1])\n",
    "    registration_method.SetSmoothingSigmasPerLevel(smoothingSigmas = [2,1,0])\n",
    "    registration_method.SmoothingSigmasAreSpecifiedInPhysicalUnitsOn()\n",
    "\n",
    "    t = registration_method.Execute(sitk.Cast(fixedImage, sitk.sitkFloat32), sitk.Cast(movingImage, sitk.sitkFloat32))\n",
    "\n",
    "    resample = sitk.ResampleImageFilter()\n",
    "    resample.SetReferenceImage(fixedImage)\n",
    "\n",
    "    resample.SetInterpolator(sitk.sitkLinear)  \n",
    "    resample.SetTransform(t)\n",
    "    \n",
    "    return resample.Execute(movingImage)"
   ]
  },
  {
   "cell_type": "code",
   "execution_count": null,
   "metadata": {},
   "outputs": [],
   "source": [
    "# img21_1 = registration(img1_1, img2_1)\n",
    "_img32 = registration3(img1_1, img3_1)"
   ]
  },
  {
   "cell_type": "code",
   "execution_count": null,
   "metadata": {},
   "outputs": [],
   "source": [
    "z = 90\n",
    "showImg3_(img1_1, z)\n",
    "showImg3_(_img32, z)"
   ]
  },
  {
   "cell_type": "code",
   "execution_count": null,
   "metadata": {},
   "outputs": [],
   "source": [
    "z = 80\n",
    "plt.figure(figsize=(20,10))\n",
    "\n",
    "plt.subplot(2, 4, 1)\n",
    "plt.imshow(sitk.GetArrayViewFromImage(img1_1[:,:,z]), cmap=\"gray\", vmin=0, vmax=4096)\n",
    "\n",
    "plt.subplot(2, 4, 2)\n",
    "plt.imshow(sitk.GetArrayViewFromImage(_img21[:,:,z]), cmap=\"gray\", vmin=0, vmax=4096)\n",
    "\n",
    "plt.subplot(2, 4, 3)\n",
    "plt.imshow(sitk.GetArrayViewFromImage(_img22[:,:,z]), cmap=\"gray\", vmin=0, vmax=4096)\n",
    "\n",
    "plt.subplot(2, 4, 4)\n",
    "plt.imshow(sitk.GetArrayViewFromImage(_img23[:,:,z]), cmap=\"gray\", vmin=0, vmax=4096)\n",
    "\n",
    "plt.subplot(2, 4, 5)\n",
    "plt.imshow(sitk.GetArrayViewFromImage(_img25[:,:,z]), cmap=\"gray\", vmin=0, vmax=4096)\n",
    "\n",
    "plt.subplot(2, 4, 6)\n",
    "plt.imshow(sitk.GetArrayViewFromImage(_img26[:,:,z]), cmap=\"gray\", vmin=0, vmax=4096)"
   ]
  },
  {
   "cell_type": "code",
   "execution_count": null,
   "metadata": {},
   "outputs": [],
   "source": [
    "dicom_names = reader.GetGDCMSeriesFileNames(\"../MRI_Data/Baseline/KL0/9011115/20050801/10450912\")\n",
    "reader.SetFileNames(dicom_names)\n",
    "\n",
    "img3 = reader.Execute()"
   ]
  },
  {
   "cell_type": "code",
   "execution_count": null,
   "metadata": {},
   "outputs": [],
   "source": [
    "z = 60\n",
    "plt.figure(figsize=(20,10))\n",
    "\n",
    "plt.subplot(2, 4, 1)\n",
    "plt.imshow(sitk.GetArrayViewFromImage(img1_1[:,:,z]), cmap=\"gray\", vmin=0, vmax=4096)\n",
    "\n",
    "plt.subplot(2, 4, 2)\n",
    "plt.imshow(sitk.GetArrayViewFromImage(img31_1[:,:,z]), cmap=\"gray\", vmin=0, vmax=4096)\n",
    "\n",
    "plt.subplot(2, 4, 3)\n",
    "plt.imshow(sitk.GetArrayViewFromImage(img32_1[:,:,z]), cmap=\"gray\", vmin=0, vmax=4096)\n",
    "\n",
    "plt.subplot(2, 4, 4)\n",
    "plt.imshow(sitk.GetArrayViewFromImage(img33_1[:,:,z]), cmap=\"gray\", vmin=0, vmax=4096)\n",
    "\n",
    "plt.subplot(2, 4, 5)\n",
    "plt.imshow(sitk.GetArrayViewFromImage(img34_1[:,:,z]), cmap=\"gray\", vmin=0, vmax=4096)"
   ]
  },
  {
   "cell_type": "code",
   "execution_count": null,
   "metadata": {},
   "outputs": [],
   "source": [
    "img3_2 = sitk.HistogramMatching(img3, img1)"
   ]
  },
  {
   "cell_type": "code",
   "execution_count": null,
   "metadata": {},
   "outputs": [],
   "source": [
    "# img31_2 = registration(img1, img3_2)\n",
    "img32_2 = registration2(img1, img3_2)\n",
    "# img33_2 = registration3(img1, img3_2)"
   ]
  },
  {
   "cell_type": "code",
   "execution_count": null,
   "metadata": {},
   "outputs": [],
   "source": [
    "z = 80\n",
    "plt.figure(figsize=(20,10))\n",
    "# img35_1 = registration2(img1_1\n",
    "plt.subplot(2, 4, 1)\n",
    "plt.imshow(sitk.GetArrayViewFromImage(img1_1[:,:,z]), cmap=\"gray\", vmin=0, vmax=4096)\n",
    "\n",
    "plt.subplot(2, 4, 2)\n",
    "plt.imshow(sitk.GetArrayViewFromImage(img35_1[:,:,z]), cmap=\"gray\", vmin=0, vmax=4096)\n"
   ]
  },
  {
   "cell_type": "code",
   "execution_count": null,
   "metadata": {},
   "outputs": [],
   "source": [
    "z = 60\n",
    "showImg3_(img1, z, \"1\")\n",
    "showImg3_(img32_2, z, \"2\")\n",
    "# showImg3_(img22_2, z, \"3\")"
   ]
  },
  {
   "cell_type": "code",
   "execution_count": null,
   "metadata": {},
   "outputs": [],
   "source": []
  }
 ],
 "metadata": {
  "kernelspec": {
   "display_name": "Python 3",
   "language": "python",
   "name": "python3"
  },
  "language_info": {
   "codemirror_mode": {
    "name": "ipython",
    "version": 3
   },
   "file_extension": ".py",
   "mimetype": "text/x-python",
   "name": "python",
   "nbconvert_exporter": "python",
   "pygments_lexer": "ipython3",
   "version": "3.6.9"
  }
 },
 "nbformat": 4,
 "nbformat_minor": 2
}
