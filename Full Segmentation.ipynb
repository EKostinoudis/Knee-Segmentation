{
 "cells": [
  {
   "cell_type": "code",
   "execution_count": null,
   "metadata": {},
   "outputs": [],
   "source": [
    "import os\n",
    "import random\n",
    "from datetime import datetime\n",
    "\n",
    "now = datetime.now()\n",
    "\n",
    "# Folder name to save registration transforms\n",
    "resultsFolder = \"results/\" + now.strftime(\"%Y_%m_%d_%H_%M_%S\")\n",
    "print(\"Results folder name:\", resultsFolder)\n",
    "\n",
    "path = \"./Dataset/data\"\n",
    "labelPath = \"Dataset/labels\"\n",
    "\n",
    "data = os.listdir(path)\n",
    "datasetLen = len(data)\n",
    "\n",
    "# random shuffle data\n",
    "# random.shuffle(data)\n",
    "\n",
    "# spilt dataset\n",
    "trainData = data[:int(datasetLen * 0.7)]\n",
    "testData = data[int(datasetLen * 0.7):]\n",
    "\n",
    "\"\"\"Write transforms.\"\"\"\n",
    "from pathlib import Path\n",
    "\n",
    "Path(f\"./{resultsFolder}\").mkdir(parents=True, exist_ok=True)\n",
    "\n",
    "try:\n",
    "    print(\"Saving training data names.\")\n",
    "    file = open(f\"./{resultsFolder}/trainData.txt\", \"w\") \n",
    "    for i, name in enumerate(trainData):\n",
    "        # print(f\"\\tSaving {name}. {i+1}/{len(trainData)}\", end='\\x1b[1K\\r')\n",
    "        # print(f\"\\tSaving {name}. {i+1}/{len(trainData)}\")\n",
    "        file.write(name+\"\\n\")\n",
    "    # print()\n",
    "    file.close()\n",
    "\n",
    "    print(\"Saving testData names.\")\n",
    "    file = open(f\"./{resultsFolder}/testData.txt\", \"w\") \n",
    "    for i, name in enumerate(testData):\n",
    "        # print(f\"\\tSaving {name}. {i+1}/{len(testData)}\", end='\\x1b[1K\\r')\n",
    "        # print(f\"\\tSaving {name}. {i+1}/{len(testData)}\")\n",
    "        file.write(name+\"\\n\")\n",
    "    # print()\n",
    "    file.close()\n",
    "except:\n",
    "    pass\n",
    "\n",
    "\n",
    "# Fork processes for each test image\n",
    "testImageIdx = 0\n",
    "for i in range(1, len(testData)):\n",
    "    n = os.fork() \n",
    "    if n == 0: \n",
    "        # child\n",
    "        testImageIdx = i\n",
    "        break \n",
    "\n",
    "resultsFolder += f\"/{testImageIdxi:02d}\"\n",
    "Path(f\"./{resultsFolder}\").mkdir(parents=True, exist_ok=True)"
   ]
  },
  {
   "cell_type": "code",
   "execution_count": null,
   "metadata": {},
   "outputs": [],
   "source": [
    "# Tests\n",
    "atlasesNums = [5]\n",
    "Ps = [[3, 3, 3]]\n",
    "Ns = [[5, 5, 5]]\n",
    "lassoTols = [0.1, 0.01, 0.001, 0.0001]\n",
    "\n",
    "inputData = []\n",
    "for atlas in atlasesNums:\n",
    "    for P in Ps:\n",
    "        for N in Ns:\n",
    "            for lassoTol in lassoTols:\n",
    "                inputData.append((atlas, P, N, lassoTol))\n"
   ]
  },
  {
   "cell_type": "code",
   "execution_count": null,
   "metadata": {
    "scrolled": true
   },
   "outputs": [],
   "source": [
    "import SimpleITK as sitk\n",
    "import numpy as np\n",
    "from utils import *\n",
    "\n",
    "transforms = []\n",
    "mseList = []\n",
    "\n",
    "# find biggest P and N\n",
    "P = np.argmax(Ps, axis=0)[0]\n",
    "N = np.argmax(Ns, axis=0)[0]\n",
    "    \n",
    "# Read fixed image\n",
    "pathName = os.path.join(path, testData[testImageIdx])\n",
    "fixedImage = sitk.CurvatureFlow(sitk.ReadImage(pathName), timeStep = 0.04, numberOfIterations = 10)\n",
    "\n",
    "\n",
    "# for i, f in enumerate(trainData[:1]): # for test\n",
    "for i, f in enumerate(trainData):\n",
    "    # print(f'Registration of {f}. {i+1}/{len(trainData)}', end='\\x1b[1K\\r')\n",
    "    print(f'Registration of {f}. {i+1}/{len(trainData)}')\n",
    "    \n",
    "    pathName = os.path.join(path, f)\n",
    "                  \n",
    "    # Histogram matching\n",
    "    image = sitk.HistogramMatching(sitk.CurvatureFlow(sitk.ReadImage(pathName), \n",
    "                                                      timeStep = 0.04, \n",
    "                                                      numberOfIterations = 10),\n",
    "                                   fixedImage)\n",
    "\n",
    "    label = sitk.ReadImage(os.path.join(labelPath, f))\n",
    "\n",
    "    t = registration(fixedImage, image, label)\n",
    "\n",
    "    # add transform to the list\n",
    "    transforms.append(t)\n",
    "\n",
    "    # add mse to the list\n",
    "    mseList.append(mse3D(fixedImage, resampleImage(image, fixedImage, t)))\n",
    "    \n",
    "# sort mseList\n",
    "mseListSorted = sorted(enumerate(mseList), key=lambda x: x[1])\n",
    "\n",
    "###############################################################################\n",
    "# For every test\n",
    "###############################################################################\n",
    "for testIndex, (atlasesNum, P, N, lassoTol) in enumerate(inputData):\n",
    "    # pick the desired number of atlases\n",
    "    minx = miny = minz = 10000\n",
    "    maxx = maxy = maxz = 0\n",
    "    images = []\n",
    "    labels = []\n",
    "\n",
    "    ###############################################################################\n",
    "    # Read atlases and labels and tranform them\n",
    "    ###############################################################################\n",
    "    for i in range(atlasesNum):\n",
    "        idx = mseListSorted[i][0]\n",
    "        t = transforms[idx]\n",
    "        f = trainData[idx]\n",
    "        pathName = os.path.join(path, f)\n",
    "        # print(f'Reading {f}. {i+1}/{atlasesNum}', end='\\x1b[1K\\r')\n",
    "        print(f'Reading {f}. {i+1}/{atlasesNum}')\n",
    "\n",
    "        # Histogram matching\n",
    "        images.append(sitk.GetArrayFromImage(resampleImage(\n",
    "                    sitk.HistogramMatching(\n",
    "                        sitk.CurvatureFlow(sitk.ReadImage(pathName), \n",
    "                                           timeStep = 0.04, \n",
    "                                           numberOfIterations = 10),\n",
    "                                        fixedImage), \n",
    "                      fixedImage, t)))\n",
    "        images[i][images[i] < 0] = 0\n",
    "        images[i] = np.asarray(images[i], dtype=np.uint16)\n",
    "\n",
    "        label = sitk.ReadImage(os.path.join(labelPath, f))\n",
    "        label = sitk.GetArrayFromImage(resampleSegmentation(label, fixedImage, t))\n",
    "        labels.append(label)\n",
    "\n",
    "        idxs = np.nonzero(label != 0)\n",
    "        minx = min([minx, min(idxs[0])])\n",
    "        maxx = max([maxx, max(idxs[0])])\n",
    "        miny = min([miny, min(idxs[1])])\n",
    "        maxy = max([maxy, max(idxs[1])])\n",
    "        minz = min([minz, min(idxs[2])])\n",
    "        maxz = max([maxz, max(idxs[2])])\n",
    "\n",
    "\n",
    "    ###############################################################################\n",
    "    # Calculate the desired shape\n",
    "    ###############################################################################\n",
    "    shape, copyShape, offset, length = calculateCropShape(images, P, N, minx, maxx, miny, maxy, minz, maxz)\n",
    "\n",
    "    ###############################################################################\n",
    "    # crop images and labels\n",
    "    ###############################################################################\n",
    "    for i in range(len(images)):\n",
    "        newImage = np.zeros((shape[0][1] - shape[0][0] + 1, \n",
    "                             shape[1][1] - shape[1][0] + 1, \n",
    "                             shape[2][1] - shape[2][0] + 1\n",
    "                            ), dtype=\"uint16\", order=\"C\")\n",
    "        newImage[offset[0]:offset[0]+length[0], \n",
    "                 offset[1]:offset[1]+length[1], \n",
    "                 offset[2]:offset[2]+length[2]] = images[i][copyShape[0][0]:copyShape[0][1]+1,\n",
    "                                                            copyShape[1][0]:copyShape[1][1]+1,\n",
    "                                                            copyShape[2][0]:copyShape[2][1]+1,]\n",
    "        images[i] = newImage\n",
    "\n",
    "        newLabels = np.zeros((shape[0][1] - shape[0][0] + 1, \n",
    "                              shape[1][1] - shape[1][0] + 1, \n",
    "                              shape[2][1] - shape[2][0] + 1,\n",
    "                             ), dtype=\"uint8\", order=\"C\")\n",
    "        newLabels[offset[0]:offset[0]+length[0], \n",
    "                  offset[1]:offset[1]+length[1], \n",
    "                  offset[2]:offset[2]+length[2]] = labels[i][copyShape[0][0]:copyShape[0][1]+1,\n",
    "                                                             copyShape[1][0]:copyShape[1][1]+1,\n",
    "                                                             copyShape[2][0]:copyShape[2][1]+1,]\n",
    "        labels[i] = newLabels\n",
    "\n",
    "    fixedImage = sitk.GetArrayFromImage(fixedImage)\n",
    "    newImage = np.zeros((shape[0][1] - shape[0][0] + 1, \n",
    "                         shape[1][1] - shape[1][0] + 1, \n",
    "                         shape[2][1] - shape[2][0] + 1\n",
    "                        ), dtype=\"uint16\", order=\"C\")\n",
    "    newImage[offset[0]:offset[0]+length[0], \n",
    "             offset[1]:offset[1]+length[1], \n",
    "             offset[2]:offset[2]+length[2]] = fixedImage[copyShape[0][0]:copyShape[0][1]+1,\n",
    "                                                         copyShape[1][0]:copyShape[1][1]+1,\n",
    "                                                         copyShape[2][0]:copyShape[2][1]+1,]\n",
    "    fixedImage = newImage\n",
    "\n",
    "\n",
    "    ###############################################################################\n",
    "    # Make to the proper type\n",
    "    ###############################################################################\n",
    "    # print(\"Fixing data types.\", end='\\x1b[1K\\r')\n",
    "    print(\"Fixing data types.\")\n",
    "    images = np.array(images, order='C')\n",
    "    labels = np.array(labels, order='C')\n",
    "    P = np.array(P, dtype=np.int32)\n",
    "    N = np.array(N, dtype=np.int32)\n",
    "\n",
    "    ###############################################################################\n",
    "    # Perform segmentation\n",
    "    ###############################################################################\n",
    "    from cGen import cGen\n",
    "    print(\"Running segmentation.\")\n",
    "    '''\n",
    "    segmentation = cGen.applySPBM(fixedImage, images, labels, 3, P, N, lassoTol=0.00001, \n",
    "                                  lassoMaxIter=1e4, verboseX=True,  verboseY=False, \n",
    "                                  xmin=-1, xmax=-1, ymin=-1, ymax=-1, zmin=60, zmax=61)\n",
    "    '''\n",
    "    segmentationSPBM, segmentationSRC = cGen.applySPBMandSRCSpams(fixedImage, images, \n",
    "                                  labels, 3, P, N, lassoTol=lassoTol, \n",
    "                                  lassoMaxIter=1e4, verboseX=True,  verboseY=False, \n",
    "                                  xmin=-1, xmax=-1, ymin=-1, ymax=-1, zmin=-1, zmax=-1,\n",
    "                                  numThreads=1)\n",
    "                                  # xmin=10, xmax=11, ymin=10, ymax=11, zmin=10, zmax=11)\n",
    "\n",
    "    ###############################################################################\n",
    "    # Save segmentation results\n",
    "    ###############################################################################\n",
    "\n",
    "    # print(\"Saving results.\", end='\\x1b[1K\\r')\n",
    "    print(\"Saving results.\")\n",
    "    try:\n",
    "        saveSegmentation(segmentationSPBM,\n",
    "                         os.path.join(path, testData[testImageIdx]), \n",
    "                         os.path.join(resultsFolder, testData[testImageIdx]) + f\"SPBM_{testIndex}.mhd\", \n",
    "                         copyShape, \n",
    "                         offset,\n",
    "                         length,\n",
    "                         verbose=False)\n",
    "    except:\n",
    "        print(\"Can't save SPBM result.\")\n",
    "\n",
    "    try:\n",
    "        saveSegmentation(segmentationSRC,\n",
    "                         os.path.join(path, testData[testImageIdx]), \n",
    "                         os.path.join(resultsFolder, testData[testImageIdx]) + f\"SRC_{testIndex}.mhd\", \n",
    "                         copyShape, \n",
    "                         offset,\n",
    "                         length,\n",
    "                         verbose=False)\n",
    "    except:\n",
    "        print(\"Can't save SRC result.\")\n",
    "\n",
    "\n",
    "    ###############################################################################\n",
    "    # Save dice index\n",
    "    ###############################################################################\n",
    "\n",
    "    originalLabel = sitk.GetArrayFromImage(sitk.ReadImage(os.path.join(labelPath, testData[testImageIdx])))\n",
    "\n",
    "    translatedSegmentationSPBM = translateToOriginal(segmentationSPBM, \n",
    "                                                     os.path.join(path, testData[testImageIdx]), \n",
    "                                                     copyShape, \n",
    "                                                     offset, \n",
    "                                                     length)\n",
    "\n",
    "    diceSPBM = Dice(originalLabel, translatedSegmentationSPBM, 3)\n",
    "\n",
    "    translatedSegmentationSRC = translateToOriginal(segmentationSRC, \n",
    "                                                    os.path.join(path, testData[testImageIdx]), \n",
    "                                                    copyShape, \n",
    "                                                    offset, \n",
    "                                                    length)\n",
    "\n",
    "    diceSRC = Dice(originalLabel, translatedSegmentationSRC, 3)\n",
    "    \n",
    "    print(f\"{testIndex}: Atlases: {atlasesNum}, P: {P}, N: {N}\")\n",
    "    print(\"SPBM:\", diceSPBM)\n",
    "    print(\"SRC:\", diceSRC)\n",
    "\n",
    "    try:\n",
    "        diceFile = open(f\"./{resultsFolder}/dice.txt\", \"a\") \n",
    "        diceFile.write(f\"{testIndex}: Atlases: {atlasesNum}, P: {P}, N: {N}\"+\"\\n\")\n",
    "        diceFile.write(\"SPBM: \" + str(diceSPBM) + \"\\n\")\n",
    "        diceFile.write(\"SRC: \" + str(diceSRC) + \"\\n\")\n",
    "        diceFile.close()\n",
    "    except:\n",
    "        print(\"Can't append dice results.\")"
   ]
  },
  {
   "cell_type": "code",
   "execution_count": null,
   "metadata": {},
   "outputs": [],
   "source": [
    "####################################################\n",
    "# END OF NORMAL CODE \n",
    "####################################################\n",
    "import sys\n",
    "sys.exit()"
   ]
  },
  {
   "cell_type": "code",
   "execution_count": null,
   "metadata": {},
   "outputs": [],
   "source": [
    "print(len(fixedImage))\n",
    "print(len(images))\n",
    "print(len(labels))\n",
    "print(fixedImage.shape)\n",
    "print(images.shape)\n",
    "print(labels.shape)\n",
    "print(fixedImage.flags)\n",
    "print(images.flags)\n",
    "print(labels.flags)"
   ]
  },
  {
   "cell_type": "code",
   "execution_count": null,
   "metadata": {},
   "outputs": [],
   "source": [
    "# B.flags['F_CONTIGUOUS']\n",
    "# B = np.asfortranarray([1,2,3,4,5], dtype='single')\n",
    "B = np.zeros((5,1), dtype='single', order='F')\n",
    "print(B.shape)\n",
    "# B = np.asfortranarray(B[:, None])\n",
    "print(B)\n",
    "print(B[:,0])\n",
    "print(B[:, None])"
   ]
  },
  {
   "cell_type": "code",
   "execution_count": null,
   "metadata": {},
   "outputs": [],
   "source": [
    "B[:,0]"
   ]
  },
  {
   "cell_type": "code",
   "execution_count": null,
   "metadata": {},
   "outputs": [],
   "source": [
    "B = np.asfortranarray(B[:, None])\n",
    "print(B.flags['F_CONTIGUOUS'])\n",
    "print(B.shape)"
   ]
  },
  {
   "cell_type": "code",
   "execution_count": null,
   "metadata": {},
   "outputs": [],
   "source": [
    "B = np.asfortranarray(B[:, None])\n",
    "B.flags['F_CONTIGUOUS']"
   ]
  },
  {
   "cell_type": "code",
   "execution_count": null,
   "metadata": {},
   "outputs": [],
   "source": [
    "segmentationSPBM, segmentationSRC = cGen.applySPBMandSRCSpams(fixedImage, images, labels, 3, P, N, lassoTol=0.00001, \n",
    "                              lassoMaxIter=1e4, verboseX=True,  verboseY=False, \n",
    "                              xmin=-1, xmax=-1, ymin=-1, ymax=-1, zmin=-1, zmax=-1)"
   ]
  },
  {
   "cell_type": "code",
   "execution_count": null,
   "metadata": {},
   "outputs": [],
   "source": [
    "from PIL import Image\n",
    "\n",
    "def showImg_(img, z=60):\n",
    "    a = sitk.GetArrayFromImage(img[z,:,:])\n",
    "    disImg = Image.fromarray(np.interp(a, (a.min(), a.max()), (0, 255)).astype('uint8'))\n",
    "    disImg.show()\n",
    "    \n",
    "def showImg2_(img, z=60):\n",
    "    disImg = Image.fromarray(sitk.GetArrayFromImage(img[z,:,:]).astype('uint8'))\n",
    "    disImg.show()\n",
    "    \n",
    "def showImg3_(img, z=60):\n",
    "    a = sitk.GetArrayFromImage(img[z,:,:])\n",
    "    disImg = image.fromarray(np.interp(a, (0, 5000), (0, 255)).astype('uint8'))\n",
    "    disImg.show()\n",
    "    \n",
    "def showImg4_(img, z=60):\n",
    "    img2 = Image.fromarray(sitk.GetArrayFromImage(img[z,:,:])*60, 'L')\n",
    "    img2.show()"
   ]
  },
  {
   "cell_type": "code",
   "execution_count": null,
   "metadata": {},
   "outputs": [],
   "source": [
    "showImg2_(fixedImage, 60)\n",
    "showImg2_(images[0], 60)\n",
    "showImg2_(images[1], 60)"
   ]
  },
  {
   "cell_type": "code",
   "execution_count": null,
   "metadata": {},
   "outputs": [],
   "source": [
    "l = sitk.GetArrayFromImage(label)\n",
    "l[l == 4] = 0\n",
    "mask = sitk.GetImageFromArray(l)\n",
    "\n",
    "showImg4_(mask, 100)\n"
   ]
  },
  {
   "cell_type": "code",
   "execution_count": null,
   "metadata": {},
   "outputs": [],
   "source": []
  },
  {
   "cell_type": "code",
   "execution_count": null,
   "metadata": {},
   "outputs": [],
   "source": [
    "idx = 0\n",
    "f = trainData[idx]\n",
    "pathName = os.path.join(path, f)\n",
    "image = sitk.HistogramMatching(sitk.CurvatureFlow(sitk.ReadImage(pathName), \n",
    "                                                      timeStep = 0.04, \n",
    "                                                      numberOfIterations = 10),\n",
    "                               fixedImage)\n",
    "'''\n",
    "label = sitk.ReadImage(os.path.join(labelPath, f))\n",
    "# Create the mask\n",
    "l = sitk.GetArrayFromImage(label)\n",
    "l[l>1] = 1\n",
    "mask = sitk.GetImageFromArray(l)\n",
    "mask.CopyInformation(label)\n",
    "'''\n",
    "    \n",
    "elastixImageFilter = sitk.ElastixImageFilter()\n",
    "elastixImageFilter.SetFixedImage(fixedImage)\n",
    "elastixImageFilter.SetMovingImage(image)\n",
    "# elastixImageFilter.AddMovingMask(mask)\n",
    "elastixImageFilter.SetParameterMap(sitk.GetDefaultParameterMap(\"affine\"))\n",
    "elastixImageFilter.Execute()"
   ]
  },
  {
   "cell_type": "code",
   "execution_count": null,
   "metadata": {},
   "outputs": [],
   "source": [
    "resultImage2 = elastixImageFilter.GetResultImage()\n",
    "transformParameterMap = elastixImageFilter.GetTransformParameterMap()"
   ]
  },
  {
   "cell_type": "code",
   "execution_count": null,
   "metadata": {},
   "outputs": [],
   "source": [
    "sitk.PrintParameterMap(elastixImageFilter.GetParameterMap())"
   ]
  },
  {
   "cell_type": "code",
   "execution_count": null,
   "metadata": {},
   "outputs": [],
   "source": [
    "help(sitk.ElastixImageFilter)"
   ]
  },
  {
   "cell_type": "code",
   "execution_count": null,
   "metadata": {},
   "outputs": [],
   "source": [
    "print(transformParameterMap)"
   ]
  },
  {
   "cell_type": "code",
   "execution_count": null,
   "metadata": {},
   "outputs": [],
   "source": [
    "showImg2_(fixedImage, 60)\n",
    "showImg2_(images[0], 60)\n",
    "showImg2_(resultImage, 60)"
   ]
  },
  {
   "cell_type": "code",
   "execution_count": null,
   "metadata": {},
   "outputs": [],
   "source": [
    "showImg_(fixedImage, 60)\n",
    "showImg_(images[1], 60)\n",
    "showImg_(resultImage, 60)"
   ]
  },
  {
   "cell_type": "code",
   "execution_count": null,
   "metadata": {},
   "outputs": [],
   "source": [
    "help(sitk.GetImageFromArray)"
   ]
  },
  {
   "cell_type": "code",
   "execution_count": null,
   "metadata": {},
   "outputs": [],
   "source": [
    "\n",
    "labels = np.array(labels, order='C', dtype=np.uint8)\n",
    "\n",
    "segmentationSPBM, segmentationSRC = cGen.applySPBMandSRCSpams(fixedImage, images, \n",
    "                              labels, 3, P, N, lassoTol=0.00001, \n",
    "                              lassoMaxIter=1e4, verboseX=True,  verboseY=False, \n",
    "                              xmin=-1, xmax=-1, ymin=-1, ymax=-1, zmin=-1, zmax=-1)"
   ]
  },
  {
   "cell_type": "code",
   "execution_count": null,
   "metadata": {},
   "outputs": [],
   "source": [
    "segmentationSPBM, segmentationSRC = cGen.applySPBMandSRCSpams(fixedImage,\n",
    "                                                         images, \n",
    "                              np.ones(labels.shape, dtype=np.uint8, order='C')+50, 3, P, N, lassoTol=0.00001, \n",
    "                              lassoMaxIter=1e4, verboseX=True,  verboseY=False, \n",
    "                              xmin=-1, xmax=-1, ymin=-1, ymax=-1, zmin=-1, zmax=-1)"
   ]
  },
  {
   "cell_type": "code",
   "execution_count": null,
   "metadata": {},
   "outputs": [],
   "source": [
    "print(fixedImage.shape)\n",
    "print(fixedImage.dtype)\n",
    "print(type(fixedImage))\n",
    "print(images.shape)\n",
    "print(images.dtype)\n",
    "print(type(images))\n",
    "print(labels.shape)\n",
    "print(labels.dtype)\n",
    "print(type(labels))"
   ]
  },
  {
   "cell_type": "code",
   "execution_count": null,
   "metadata": {
    "scrolled": true
   },
   "outputs": [],
   "source": [
    "from cGen import cGen\n",
    "import numpy as np\n",
    "\n",
    "P = [3, 3, 3]\n",
    "N = [5, 5, 5]\n",
    "P = np.array(P, dtype=np.int32)\n",
    "N = np.array(N, dtype=np.int32)\n",
    "\n",
    "ii = np.array(np.random.randint(0, high=500, size=(390, 276, 129)), dtype=np.uint16, order='C')\n",
    "i = np.array(np.random.randint(0, high=500, size=(1, 390, 276, 129)), dtype=np.uint16, order='C')\n",
    "l = np.array(np.random.randint(0, high=3, size=(1, 390, 276, 129)), dtype=np.uint8, order='C')\n",
    "segmentationSPBM, segmentationSRC = cGen.applySPBMandSRCSpams(ii,\n",
    "                                                              i, \n",
    "                                                              l, 3, P, N, lassoTol=0.1, \n",
    "                              lassoMaxIter=1e4, verboseX=True,  verboseY=False, \n",
    "                              # xmin=-1, xmax=-1, ymin=-1, ymax=-1, zmin=-1, zmax=-1)\n",
    "                              xmin=-1, xmax=-1, ymin=60, ymax=61, zmin=60, zmax=61)"
   ]
  },
  {
   "cell_type": "code",
   "execution_count": null,
   "metadata": {},
   "outputs": [],
   "source": [
    "np.sum(l[l>0])\n",
    "l"
   ]
  },
  {
   "cell_type": "code",
   "execution_count": null,
   "metadata": {},
   "outputs": [],
   "source": [
    "import spams\n",
    "import numpy as np\n",
    "\n",
    "A = np.zeros(shape=(20, 10), dtype=np.single, order='F')\n",
    "B = np.zeros(shape=(20, 1), dtype=np.single, order='F')\n",
    "# B = np.zeros(shape=(20, 1), dtype=np.single, order='F')\n",
    "\n",
    "\n",
    "alpha = spams.lasso(B, A, \n",
    "               return_reg_path = False, \n",
    "               lambda1 = 0.1, \n",
    "               lambda2 = 0.,\n",
    "               pos = True,\n",
    "               mode = 2,\n",
    "               numThreads = -1,\n",
    "              )\n"
   ]
  },
  {
   "cell_type": "code",
   "execution_count": null,
   "metadata": {},
   "outputs": [],
   "source": [
    "type(alpha.A[:,0])"
   ]
  },
  {
   "cell_type": "code",
   "execution_count": null,
   "metadata": {},
   "outputs": [],
   "source": [
    "alpha.toarray()[:,0]"
   ]
  },
  {
   "cell_type": "code",
   "execution_count": null,
   "metadata": {},
   "outputs": [],
   "source": [
    "\n",
    "sitk.WriteImage(sitk.GetImageFromArray(fixedImage), \"fixedImage.mhd\")\n",
    "sitk.WriteImage(sitk.GetImageFromArray(images[0]), \"movingImage.mhd\")\n",
    "sitk.WriteImage(sitk.GetImageFromArray(labels[0]), \"movinglabel.mhd\")\n"
   ]
  },
  {
   "cell_type": "code",
   "execution_count": null,
   "metadata": {},
   "outputs": [],
   "source": [
    "import SimpleITK as sitk\n",
    "import numpy as np\n",
    "\n",
    "fixedImage = sitk.GetArrayFromImage(sitk.ReadImage(\"fixedImage.mhd\"))\n",
    "image = sitk.GetArrayFromImage(sitk.ReadImage(\"movingImage.mhd\"))\n",
    "label = sitk.GetArrayFromImage(sitk.ReadImage(\"movinglabel.mhd\"))\n",
    "\n",
    "fixedImage = np.array(fixedImage, order='C')\n",
    "images = np.array([image], order='C')\n",
    "labels = np.array([label], order='C')"
   ]
  },
  {
   "cell_type": "code",
   "execution_count": null,
   "metadata": {},
   "outputs": [],
   "source": [
    "print(fixedImage.shape)\n",
    "print(images.shape)\n",
    "print(labels.shape)"
   ]
  },
  {
   "cell_type": "code",
   "execution_count": null,
   "metadata": {
    "scrolled": true
   },
   "outputs": [],
   "source": [
    "from cGen import cGen\n",
    "\n",
    "P = [3, 3, 3]\n",
    "N = [5, 5, 5]\n",
    "P = np.array(P, dtype=np.int32)\n",
    "N = np.array(N, dtype=np.int32)\n",
    "\n",
    "segmentationSPBM, segmentationSRC = cGen.applySPBMandSRCSpams(fixedImage, images, \n",
    "# segmentationSPBM, segmentationSRC = cGen.applySPBMandSRC(fixedImage, images, \n",
    "                              labels, 3, P, N, lassoTol=0.001, \n",
    "                              lassoMaxIter=1e4, verboseX=True,  verboseY=False, \n",
    "                              xmin=-1, xmax=-1, ymin=-1, ymax=-1, zmin=60, zmax=61)\n",
    "                              # xmin=60, xmax=61, ymin=-1, ymax=-1, zmin=-1, zmax=-1)\n",
    "                              # xmin=10, xmax=11, ymin=10, ymax=11, zmin=10, zmax=11)"
   ]
  },
  {
   "cell_type": "code",
   "execution_count": null,
   "metadata": {},
   "outputs": [],
   "source": [
    "showImg_(sitk.GetImageFromArray(segmentationSPBM), 60)\n",
    "showImg_(sitk.GetImageFromArray(segmentationSRC), 60)\n",
    "# showImg_(sitk.GetImageFromArray(originalLabel), 60)\n",
    "showImg_(sitk.GetImageFromArray(labels[0]), 60)"
   ]
  },
  {
   "cell_type": "code",
   "execution_count": null,
   "metadata": {},
   "outputs": [],
   "source": [
    "segmentationSRC[segmentationSRC == 3]"
   ]
  },
  {
   "cell_type": "code",
   "execution_count": null,
   "metadata": {},
   "outputs": [],
   "source": [
    "\n",
    "originalLabel = sitk.GetArrayFromImage(sitk.ReadImage(os.path.join(labelPath, testData[0])))\n",
    "translatedSegmentationSPBM = translateToOriginal(segmentationSPBM, \n",
    "                                                 os.path.join(path, testData[0]), \n",
    "                                                 copyShape, \n",
    "                                                 offset, \n",
    "                                                 length)\n",
    "\n",
    "print(Dice(originalLabel, translatedSegmentationSPBM, 3))\n",
    "\n",
    "translatedSegmentationSRC = translateToOriginal(segmentationSRC, \n",
    "                                                os.path.join(path, testData[0]), \n",
    "                                                copyShape, \n",
    "                                                offset, \n",
    "                                                length)\n",
    "\n",
    "print(Dice(originalLabel, translatedSegmentationSRC, 3))"
   ]
  },
  {
   "cell_type": "code",
   "execution_count": null,
   "metadata": {},
   "outputs": [],
   "source": []
  }
 ],
 "metadata": {
  "kernelspec": {
   "display_name": "Python 3",
   "language": "python",
   "name": "python3"
  },
  "language_info": {
   "codemirror_mode": {
    "name": "ipython",
    "version": 3
   },
   "file_extension": ".py",
   "mimetype": "text/x-python",
   "name": "python",
   "nbconvert_exporter": "python",
   "pygments_lexer": "ipython3",
   "version": "3.6.9"
  }
 },
 "nbformat": 4,
 "nbformat_minor": 2
}
