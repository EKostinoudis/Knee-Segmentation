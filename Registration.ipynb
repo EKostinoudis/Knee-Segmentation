{
 "cells": [
  {
   "cell_type": "markdown",
   "metadata": {},
   "source": [
    "# Registration\n",
    "Registers images `data[1:]` to image `data[0]`.\n",
    "Save the results to a folder given by the *folder* variable."
   ]
  },
  {
   "cell_type": "code",
   "execution_count": null,
   "metadata": {},
   "outputs": [],
   "source": [
    "import os\n",
    "\n",
    "# Folder name to save registration transforms\n",
    "folder = \"AAAAAAAAAA\"\n",
    "\n",
    "path = \"./oai_zib_mri_train/train\"\n",
    "labelPath = \"oai_zib_labelmaps/labelmaps/train\"\n",
    "\n",
    "data = os.listdir(path)\n",
    "data = data[:60]"
   ]
  },
  {
   "cell_type": "code",
   "execution_count": null,
   "metadata": {},
   "outputs": [],
   "source": [
    "import SimpleITK as sitk\n",
    "import numpy as np\n",
    "from utils import resampleSegmentation, registration\n",
    "\n",
    "transforms = []\n",
    "minx = miny = minz = 10000\n",
    "maxx = maxy = maxz = 0\n",
    "\n",
    "for i, f in enumerate(data):\n",
    "    print(f'Reading {f}. {i+1}/{len(data)}', end=\" \")\n",
    "    \n",
    "    pathName = os.path.join(path, f)\n",
    "                  \n",
    "    # Histogram matching\n",
    "    if i != 0:\n",
    "        image = sitk.HistogramMatching(sitk.CurvatureFlow(sitk.ReadImage(pathName), \n",
    "                                                          timeStep = 0.04, \n",
    "                                                          numberOfIterations = 10),\n",
    "                                       fixedImage)\n",
    "\n",
    "        labels = sitk.ReadImage(os.path.join(labelPath, f))\n",
    "    \n",
    "        t = registration(fixedImage, image, labels)\n",
    "        \n",
    "        transforms.append(t)\n",
    "        \n",
    "        labels = sitk.GetArrayFromImage(resampleSegmentation(labels, fixedImage, t))\n",
    "        \n",
    "        idx = np.nonzero(labels != 0)\n",
    "        minx = min([minx, min(idx[0])])\n",
    "        maxx = max([maxx, max(idx[0])])\n",
    "        miny = min([miny, min(idx[1])])\n",
    "        maxy = max([maxy, max(idx[1])])\n",
    "        minz = min([minz, min(idx[2])])\n",
    "        maxz = max([maxz, max(idx[2])])\n",
    "    else:\n",
    "        fixedImage = sitk.CurvatureFlow(sitk.ReadImage(pathName), timeStep = 0.04, numberOfIterations = 10)\n",
    "    \n",
    "    print()"
   ]
  },
  {
   "cell_type": "code",
   "execution_count": null,
   "metadata": {},
   "outputs": [],
   "source": [
    "\"\"\"Write transforms.\"\"\"\n",
    "\n",
    "from pathlib import Path\n",
    "\n",
    "Path(f\"./{folder}\").mkdir(parents=True, exist_ok=True)\n",
    "\n",
    "file = open(f\"./{folder}/names.txt\", \"w\") \n",
    "\n",
    "for i, name in enumerate(data):\n",
    "    print(f\"Saving {name}. {i+1}/{len(data)}\")\n",
    "    file.write(name+\"\\n\")\n",
    "    if i >= 1:\n",
    "        sitk.WriteTransform(transforms[i-1], f\"./{folder}/{name}.tfm\")\n",
    "    \n",
    "file.close()\n",
    "\n",
    "file = open(f\"./{folder}/boundaries.txt\", \"w\") \n",
    "file.write(str(minx)+\"\\n\")\n",
    "file.write(str(maxx)+\"\\n\")\n",
    "file.write(str(miny)+\"\\n\")\n",
    "file.write(str(maxy)+\"\\n\")\n",
    "file.write(str(minz)+\"\\n\")\n",
    "file.write(str(maxz)+\"\\n\")\n",
    "file.close()"
   ]
  }
 ],
 "metadata": {
  "kernelspec": {
   "display_name": "Python 3",
   "language": "python",
   "name": "python3"
  },
  "language_info": {
   "codemirror_mode": {
    "name": "ipython",
    "version": 3
   },
   "file_extension": ".py",
   "mimetype": "text/x-python",
   "name": "python",
   "nbconvert_exporter": "python",
   "pygments_lexer": "ipython3",
   "version": "3.6.9"
  }
 },
 "nbformat": 4,
 "nbformat_minor": 2
}
