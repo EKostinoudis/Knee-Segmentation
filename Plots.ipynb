{
 "cells": [
  {
   "cell_type": "code",
   "execution_count": null,
   "metadata": {},
   "outputs": [],
   "source": [
    "import os\n",
    "import random\n",
    "from datetime import datetime\n",
    "\n",
    "path = \"./Dataset/data\"\n",
    "labelPath = \"Dataset/labels\"\n",
    "\n",
    "data = os.listdir(path)\n",
    "datasetLen = len(data)\n",
    "\n",
    "# random shuffle data\n",
    "# random.shuffle(data)"
   ]
  },
  {
   "cell_type": "code",
   "execution_count": null,
   "metadata": {},
   "outputs": [],
   "source": [
    "import SimpleITK as sitk\n",
    "import numpy as np\n",
    "from utils import *\n",
    "import os\n",
    "\n",
    "timeStep = 0.04\n",
    "numberOfIterations = 10\n",
    "\n",
    "# Set the number of threads\n",
    "# sitk.ImageRegistrationMethod().SetGlobalDefaultNumberOfThreads(1)\n",
    "\n",
    "pathName = os.path.join(path, data[0])\n",
    "originalImage = sitk.ReadImage(pathName)\n",
    "\n",
    "curvatureImage = sitk.CurvatureFlow(originalImage, \n",
    "                                timeStep = timeStep, \n",
    "                                numberOfIterations = numberOfIterations)\n",
    "\n",
    "pathName = os.path.join(path, data[2])\n",
    "originalMovingImage = sitk.ReadImage(pathName)\n",
    "MovingImage = sitk.HistogramMatching(sitk.CurvatureFlow(originalMovingImage,\n",
    "                                                  timeStep = timeStep, \n",
    "                                                  numberOfIterations = numberOfIterations),\n",
    "                               curvatureImage)\n"
   ]
  },
  {
   "cell_type": "code",
   "execution_count": null,
   "metadata": {},
   "outputs": [],
   "source": [
    "from PIL import Image\n",
    "import numpy as np\n",
    "\n",
    "def showImg_(img, z=60):\n",
    "    a = sitk.GetArrayFromImage(img[z,:,:])\n",
    "    disImg = Image.fromarray(np.interp(a, (a.min(), a.max()), (0, 255)).astype('uint8'))\n",
    "    disImg.show()\n",
    "    \n",
    "def showImg2_(img, z=60):\n",
    "    disImg = Image.fromarray(sitk.GetArrayFromImage(img[z,:,:]).astype('uint8'))\n",
    "    disImg.show()\n",
    "    \n",
    "def showImg3_(img, z=60):\n",
    "    a = sitk.GetArrayFromImage(img[z,:,:])\n",
    "    disImg = image.fromarray(np.interp(a, (0, 5000), (0, 255)).astype('uint8'))\n",
    "    disImg.show()\n",
    "    \n",
    "def showImg4_(img, z=60):\n",
    "    img2 = Image.fromarray(sitk.GetArrayFromImage(img[z,:,:])*60, 'L')\n",
    "    img2.show()\n",
    "    \n",
    "def showImg5_(img):\n",
    "    a = sitk.GetArrayFromImage(img)\n",
    "    disImg = Image.fromarray(np.interp(a, (a.min(), a.max()), (0, 255)).astype('uint8'))\n",
    "    disImg.show()\n",
    "    return disImg"
   ]
  },
  {
   "cell_type": "code",
   "execution_count": null,
   "metadata": {},
   "outputs": [],
   "source": [
    "z = 60\n",
    "showImg5_(originalImage[z,:,:]).save('thesis/images/original_1.png')\n",
    "showImg5_(curvatureImage[z,:,:]).save('thesis/images/curvature_1.png')\n",
    "\n",
    "z = 100\n",
    "showImg5_(originalImage[z,150:300,50:200]).save('thesis/images/original_1_1.png')\n",
    "showImg5_(curvatureImage[z,150:300,50:200]).save('thesis/images/curvature_1_1.png')\n",
    "\n",
    "z = 250\n",
    "showImg5_(originalImage[:,z,:]).save('thesis/images/original_2.png')\n",
    "showImg5_(curvatureImage[:,z,:]).save('thesis/images/curvature_2.png')\n",
    "\n",
    "z = 250\n",
    "showImg5_(originalImage[:,:,z]).save('thesis/images/original_3.png')\n",
    "showImg5_(curvatureImage[:,:,z]).save('thesis/images/curvature_3.png')"
   ]
  },
  {
   "cell_type": "code",
   "execution_count": null,
   "metadata": {},
   "outputs": [],
   "source": [
    "import matplotlib.pyplot as plt\n",
    "\n",
    "histogramFig, ax1 = plt.subplots(dpi=150)\n",
    "\n",
    "plt.hist(sitk.GetArrayFromImage(curvatureImage).reshape((-1,)), bins='auto', label='Fixed Image')\n",
    "_, bins, _ = plt.hist(sitk.GetArrayFromImage(MovingImage).reshape((-1,)), bins='auto', label='Moving image')\n",
    "plt.hist(sitk.GetArrayFromImage(originalMovingImage).reshape((-1,)), bins=bins, label='Moving image 2')\n",
    "\n",
    "ax1.set_xlim([0,200])\n",
    "\n",
    "plt.legend(loc='best')\n",
    "plt.title(\"Histograms\")\n",
    "\n",
    "plt.show()\n",
    "\n"
   ]
  },
  {
   "cell_type": "code",
   "execution_count": null,
   "metadata": {},
   "outputs": [],
   "source": [
    "originalImage.GetSize()"
   ]
  },
  {
   "cell_type": "code",
   "execution_count": null,
   "metadata": {},
   "outputs": [],
   "source": [
    "sitk.GetArrayFromImage(curvatureImage).reshape((-1,)).shape"
   ]
  },
  {
   "cell_type": "code",
   "execution_count": null,
   "metadata": {},
   "outputs": [],
   "source": [
    "np.max(sitk.GetArrayFromImage(originalMovingImage).reshape((-1,)))"
   ]
  },
  {
   "cell_type": "code",
   "execution_count": null,
   "metadata": {},
   "outputs": [],
   "source": []
  }
 ],
 "metadata": {
  "kernelspec": {
   "display_name": "Python 3",
   "language": "python",
   "name": "python3"
  },
  "language_info": {
   "codemirror_mode": {
    "name": "ipython",
    "version": 3
   },
   "file_extension": ".py",
   "mimetype": "text/x-python",
   "name": "python",
   "nbconvert_exporter": "python",
   "pygments_lexer": "ipython3",
   "version": "3.6.9"
  }
 },
 "nbformat": 4,
 "nbformat_minor": 2
}
