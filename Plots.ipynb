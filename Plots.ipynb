{
 "cells": [
  {
   "cell_type": "code",
   "execution_count": 1,
   "metadata": {},
   "outputs": [],
   "source": [
    "import os\n",
    "import random\n",
    "from datetime import datetime\n",
    "\n",
    "path = \"./Dataset/data\"\n",
    "labelPath = \"Dataset/labels\"\n",
    "\n",
    "data = os.listdir(path)\n",
    "datasetLen = len(data)\n",
    "\n",
    "# random shuffle data\n",
    "# random.shuffle(data)"
   ]
  },
  {
   "cell_type": "code",
   "execution_count": 2,
   "metadata": {},
   "outputs": [],
   "source": [
    "import SimpleITK as sitk\n",
    "import numpy as np\n",
    "from utils import *\n",
    "import os\n",
    "\n",
    "timeStep = 0.04\n",
    "numberOfIterations = 10\n",
    "\n",
    "# Set the number of threads\n",
    "# sitk.ImageRegistrationMethod().SetGlobalDefaultNumberOfThreads(1)\n",
    "\n",
    "pathName = os.path.join(path, data[0])\n",
    "originalImage = sitk.ReadImage(pathName)\n",
    "originalLabel = sitk.ReadImage(os.path.join(labelPath, data[0]))\n",
    "\n",
    "curvatureImage = sitk.CurvatureFlow(originalImage, \n",
    "                                timeStep = timeStep, \n",
    "                                numberOfIterations = numberOfIterations)\n",
    "\n",
    "pathName = os.path.join(path, data[2])\n",
    "'''\n",
    "originalMovingImage = sitk.ReadImage(pathName)\n",
    "MovingImage = sitk.HistogramMatching(sitk.CurvatureFlow(originalMovingImage,\n",
    "                                                  timeStep = timeStep, \n",
    "                                                  numberOfIterations = numberOfIterations),\n",
    "                               curvatureImage)\n",
    "'''\n",
    "originalMovingImage = sitk.CurvatureFlow(sitk.ReadImage(pathName),\n",
    "                                                  timeStep = timeStep, \n",
    "                                                  numberOfIterations = numberOfIterations)\n",
    "MovingImage = sitk.HistogramMatching(originalMovingImage, curvatureImage)\n"
   ]
  },
  {
   "cell_type": "code",
   "execution_count": 3,
   "metadata": {},
   "outputs": [],
   "source": [
    "from PIL import Image\n",
    "import numpy as np\n",
    "\n",
    "def showImg_(img, z=60):\n",
    "    a = sitk.GetArrayFromImage(img[z,:,:])\n",
    "    disImg = Image.fromarray(np.interp(a, (a.min(), a.max()), (0, 255)).astype('uint8'))\n",
    "    disImg.show()\n",
    "    \n",
    "def showImg2_(img, z=60):\n",
    "    disImg = Image.fromarray(sitk.GetArrayFromImage(img[z,:,:]).astype('uint8'))\n",
    "    disImg.show()\n",
    "    \n",
    "def showImg3_(img, z=60):\n",
    "    a = sitk.GetArrayFromImage(img[z,:,:])\n",
    "    disImg = image.fromarray(np.interp(a, (0, 5000), (0, 255)).astype('uint8'))\n",
    "    disImg.show()\n",
    "    \n",
    "def showImg4_(img, z=60):\n",
    "    img2 = Image.fromarray(sitk.GetArrayFromImage(img[z,:,:])*60, 'L')\n",
    "    img2.show()\n",
    "    \n",
    "def showImg5_(img):\n",
    "    a = sitk.GetArrayFromImage(img)\n",
    "    disImg = Image.fromarray(np.interp(a, (a.min(), a.max()), (0, 255)).astype('uint8'))\n",
    "    disImg.show()\n",
    "    return disImg\n",
    "\n",
    "def createOverlays(image1, image2):\n",
    "    whiteImage = sitk.GetImageFromArray(255*np.ones(image1.GetSize()[::-1]))\n",
    "    whiteImage.CopyInformation(image1)\n",
    "    image1.CopyInformation(whiteImage)\n",
    "    temp = sitk.LabelOverlay(whiteImage, image1, opacity=0.1)\n",
    "    whiteImage2 = sitk.GetImageFromArray(255*np.ones(image2.GetSize()[::-1]))\n",
    "    whiteImage2.CopyInformation(image2)\n",
    "    temp2 = sitk.LabelOverlay(whiteImage2, image2, opacity=0.1, colormap=(0,0,0,1,0,0,0,1))\n",
    "\n",
    "    overlay1 = Image.fromarray(sitk.GetArrayFromImage(temp).astype('uint8'), 'RGB')\n",
    "    overlay2 = Image.fromarray(sitk.GetArrayFromImage(temp2).astype('uint8'), 'RGB')\n",
    "    overlay11 = overlay1.convert(\"RGBA\")\n",
    "    overlay22 = overlay2.convert(\"RGBA\")\n",
    "\n",
    "    new_img = Image.blend(overlay11, overlay22, 0.5)\n",
    "    \n",
    "    return (sitk.GetImageFromArray(overlay11), sitk.GetImageFromArray(overlay22), sitk.GetImageFromArray(new_img))"
   ]
  },
  {
   "cell_type": "code",
   "execution_count": null,
   "metadata": {},
   "outputs": [],
   "source": [
    "z = 60\n",
    "showImg5_(originalImage[z,:,:]).save('thesis/images/original_1.png')\n",
    "showImg5_(curvatureImage[z,:,:]).save('thesis/images/curvature_1.png')\n",
    "\n",
    "z = 100\n",
    "showImg5_(originalImage[z,150:300,50:200]).save('thesis/images/original_1_1.png')\n",
    "showImg5_(curvatureImage[z,150:300,50:200]).save('thesis/images/curvature_1_1.png')\n",
    "\n",
    "z = 250\n",
    "showImg5_(originalImage[:,z,:]).save('thesis/images/original_2.png')\n",
    "showImg5_(curvatureImage[:,z,:]).save('thesis/images/curvature_2.png')\n",
    "\n",
    "z = 250\n",
    "showImg5_(originalImage[:,:,z]).save('thesis/images/original_3.png')\n",
    "showImg5_(curvatureImage[:,:,z]).save('thesis/images/curvature_3.png')"
   ]
  },
  {
   "cell_type": "code",
   "execution_count": null,
   "metadata": {},
   "outputs": [],
   "source": [
    "import matplotlib.pyplot as plt\n",
    "\n",
    "# plt.style.use('seaborn-deep')\n",
    "\n",
    "histogramFig, ax1 = plt.subplots(dpi=300)\n",
    "\n",
    "plt.hist(sitk.GetArrayFromImage(curvatureImage).reshape((-1,)), bins='auto', alpha=0.7, label='Fixed Image')\n",
    "_, bins, _ = plt.hist(sitk.GetArrayFromImage(MovingImage).reshape((-1,)), bins='auto', alpha=0.7, label='Moving image after histogram matching')\n",
    "# plt.hist(sitk.GetArrayFromImage(originalMovingImage).reshape((-1,)), bins=bins, alpha=0.7, label='Original Moving image')\n",
    "plt.hist(sitk.GetArrayFromImage(originalMovingImage).reshape((-1,)), bins='auto', alpha=0.7, label='Original Moving image')\n",
    "\n",
    "ax1.set_xlim([-1,200])\n",
    "\n",
    "plt.legend(loc='best')\n",
    "plt.title(\"Histograms\")\n",
    "plt.xlabel(\"Image intensity\")\n",
    "plt.ylabel(\"Frequency\")\n",
    "\n",
    "plt.show()\n",
    "\n",
    "histogramFig.savefig('thesis/images/histogram_plot.png')"
   ]
  },
  {
   "cell_type": "code",
   "execution_count": null,
   "metadata": {},
   "outputs": [],
   "source": [
    "z = 60\n",
    "# showImg5_(curvatureImage[z,:,:]).save('thesis/images/curvature_1.png') # we got this\n",
    "z = 50\n",
    "showImg5_(originalMovingImage[z,:,:]).save('thesis/images/original_moving_1.png')\n",
    "showImg5_(MovingImage[z,:,:]).save('thesis/images/original_moving_histogram_matching_1.png')\n"
   ]
  },
  {
   "cell_type": "code",
   "execution_count": 4,
   "metadata": {},
   "outputs": [],
   "source": [
    "pathName = os.path.join(path, data[1])\n",
    "'''\n",
    "originalMovingImage = sitk.ReadImage(pathName)\n",
    "MovingImage = sitk.HistogramMatching(sitk.CurvatureFlow(originalMovingImage,\n",
    "                                                  timeStep = timeStep, \n",
    "                                                  numberOfIterations = numberOfIterations),\n",
    "                               curvatureImage)\n",
    "'''\n",
    "originalMovingImage = sitk.CurvatureFlow(sitk.ReadImage(pathName),\n",
    "                                                  timeStep = timeStep, \n",
    "                                                  numberOfIterations = numberOfIterations)\n",
    "MovingImage = sitk.HistogramMatching(originalMovingImage, curvatureImage)\n",
    "\n",
    "label = sitk.ReadImage(os.path.join(labelPath, data[1]))\n",
    "\n",
    "t = registrationElastixMask(curvatureImage, MovingImage, label)\n",
    "registeredImage = resampleImage(MovingImage,  curvatureImage, t)\n",
    "registeredLabel = resampleLabels(label, curvatureImage, t)"
   ]
  },
  {
   "cell_type": "code",
   "execution_count": 14,
   "metadata": {},
   "outputs": [],
   "source": [
    "z = 60\n",
    "image1, image2, image3 = createOverlays(originalLabel[z,:,:], registeredLabel[z,:,:])\n",
    "showImg5_(image1).save('thesis/images/original_label_registration_1.png')\n",
    "showImg5_(image2).save('thesis/images/moving_label_after_registration_1.png')\n",
    "showImg5_(image3).save('thesis/images/combination_label_after_registration_1.png')\n",
    "_, image2, image3 = createOverlays(originalLabel[z,:,:], label[z,:,:])\n",
    "showImg5_(image2).save('thesis/images/moving_label_before_registration_1.png')\n",
    "showImg5_(image3).save('thesis/images/combination_label_before_registration_1.png')\n",
    "\n",
    "z = 250\n",
    "image1, image2, image3 = createOverlays(originalLabel[:,z,:], registeredLabel[:,z,:])\n",
    "showImg5_(image1[:,:,10:-120]).save('thesis/images/original_label_registration_2.png')\n",
    "showImg5_(image2[:,:,10:-120]).save('thesis/images/moving_label_after_registration_2.png')\n",
    "showImg5_(image3[:,:,10:-120]).save('thesis/images/combination_label_after_registration_2.png')\n",
    "_, image2, image3 = createOverlays(originalLabel[:,z,:], label[:,z,:])\n",
    "showImg5_(image2[:,:,10:-120]).save('thesis/images/moving_label_before_registration_2.png')\n",
    "showImg5_(image3[:,:,10:-120]).save('thesis/images/combination_label_before_registration_2.png')\n",
    "\n",
    "z = 250\n",
    "image1, image2, image3 = createOverlays(originalLabel[:,:,z], registeredLabel[:,:,z])\n",
    "showImg5_(image1[:,:,80:-80]).save('thesis/images/original_label_registration_3.png')\n",
    "showImg5_(image2[:,:,80:-80]).save('thesis/images/moving_label_after_registration_3.png')\n",
    "showImg5_(image3[:,:,80:-80]).save('thesis/images/combination_label_after_registration_3.png')\n",
    "_, image2, image3 = createOverlays(originalLabel[:,:,z], label[:,:,z])\n",
    "showImg5_(image2[:,:,80:-80]).save('thesis/images/moving_label_before_registration_3.png')\n",
    "showImg5_(image3[:,:,80:-80]).save('thesis/images/combination_label_before_registration_3.png')"
   ]
  },
  {
   "cell_type": "code",
   "execution_count": 11,
   "metadata": {},
   "outputs": [
    {
     "data": {
      "image/png": "[encoded data removed]",
      "text/plain": [
       "<PIL.Image.Image image mode=RGBA size=160x224 at 0x7FA9C8231780>"
      ]
     },
     "execution_count": 11,
     "metadata": {},
     "output_type": "execute_result"
    }
   ],
   "source": [
    "showImg5_(image2[:,:,80:-80])"
   ]
  },
  {
   "cell_type": "code",
   "execution_count": 8,
   "metadata": {},
   "outputs": [
    {
     "data": {
      "text/plain": [
       "(4, 160, 384)"
      ]
     },
     "execution_count": 8,
     "metadata": {},
     "output_type": "execute_result"
    }
   ],
   "source": [
    "image2.GetSize()"
   ]
  },
  {
   "cell_type": "code",
   "execution_count": null,
   "metadata": {},
   "outputs": [],
   "source": []
  },
  {
   "cell_type": "code",
   "execution_count": null,
   "metadata": {},
   "outputs": [],
   "source": [
    "z = 60\n",
    "showImg5_(registeredImage[z,:,:])\n",
    "showImg5_(curvatureImage[z,:,:])\n",
    "showImg_(registeredLabel, z)\n",
    "showImg_(originalLabel, z)"
   ]
  },
  {
   "cell_type": "code",
   "execution_count": null,
   "metadata": {},
   "outputs": [],
   "source": [
    "# showImg5_(sitk.LabelOverlay(curvatureImage, originalLabel, opacity=0.1)[z,:,:])\n",
    "# TODO: fix this, doesn't work\n",
    "z = 60\n",
    "# temp = sitk.LabelOverlay(curvatureImage, originalLabel, opacity=0.1)[z,:,:]\n",
    "whiteImage = sitk.GetImageFromArray(255*np.ones(curvatureImage.GetSize()[::-1]))\n",
    "whiteImage.CopyInformation(curvatureImage)\n",
    "temp = sitk.LabelOverlay(whiteImage, originalLabel, opacity=0.1)[z,:,:]\n",
    "whiteImage2 = sitk.GetImageFromArray(255*np.ones(registeredImage.GetSize()[::-1]))\n",
    "whiteImage2.CopyInformation(registeredImage)\n",
    "temp2 = sitk.LabelOverlay(whiteImage2, registeredLabel, opacity=0.1, colormap=(0,0,0,1,0,0,0,1))[z,:,:]\n",
    "\n",
    "overlay1 = Image.fromarray(sitk.GetArrayFromImage(temp).astype('uint8'), 'RGB')\n",
    "overlay2 = Image.fromarray(sitk.GetArrayFromImage(temp2).astype('uint8'), 'RGB')\n",
    "overlay11 = overlay1.convert(\"RGBA\")\n",
    "overlay22 = overlay2.convert(\"RGBA\")\n",
    "\n",
    "new_img = Image.blend(overlay11, overlay22, 0.5)\n",
    "# showImg5_(sitk.GetImageFromArray(new_img)[z,:,:])\n",
    "showImg5_(sitk.GetImageFromArray(overlay11))\n",
    "showImg5_(sitk.GetImageFromArray(overlay22))\n",
    "showImg5_(sitk.GetImageFromArray(new_img))\n"
   ]
  },
  {
   "cell_type": "code",
   "execution_count": null,
   "metadata": {},
   "outputs": [],
   "source": [
    "z = 60\n",
    "image1, image2, image3 = createOverlays(originalLabel[z,:,:], registeredLabel[z,:,:])\n",
    "\n",
    "showImg5_(image1)\n",
    "showImg5_(image2)\n",
    "showImg5_(image3)"
   ]
  },
  {
   "cell_type": "code",
   "execution_count": null,
   "metadata": {},
   "outputs": [],
   "source": [
    "# image1, image2, image3 = createOverlays(originalLabel[z,:,:], registeredLabel[z,:,:])\n"
   ]
  },
  {
   "cell_type": "code",
   "execution_count": null,
   "metadata": {},
   "outputs": [],
   "source": []
  },
  {
   "cell_type": "code",
   "execution_count": null,
   "metadata": {},
   "outputs": [],
   "source": []
  },
  {
   "cell_type": "code",
   "execution_count": null,
   "metadata": {},
   "outputs": [],
   "source": [
    "# overlay1 = Image.fromarray(sitk.GetArrayFromImage(temp))\n",
    "a = sitk.GetArrayFromImage(temp).astype('uint8')\n",
    "print(a.dtype)\n",
    "type(Image.fromarray(a))"
   ]
  },
  {
   "cell_type": "code",
   "execution_count": null,
   "metadata": {},
   "outputs": [],
   "source": [
    "sitk.GetArrayFromImage(curvatureImage).reshape((-1,)).shape"
   ]
  },
  {
   "cell_type": "code",
   "execution_count": null,
   "metadata": {},
   "outputs": [],
   "source": [
    "np.max(sitk.GetArrayFromImage(originalMovingImage).reshape((-1,)))"
   ]
  },
  {
   "cell_type": "code",
   "execution_count": null,
   "metadata": {},
   "outputs": [],
   "source": [
    "a = sitk.LabelOverlayImageFilter()\n",
    "a.GetColormap()"
   ]
  },
  {
   "cell_type": "code",
   "execution_count": null,
   "metadata": {},
   "outputs": [],
   "source": []
  }
 ],
 "metadata": {
  "kernelspec": {
   "display_name": "Python 3",
   "language": "python",
   "name": "python3"
  },
  "language_info": {
   "codemirror_mode": {
    "name": "ipython",
    "version": 3
   },
   "file_extension": ".py",
   "mimetype": "text/x-python",
   "name": "python",
   "nbconvert_exporter": "python",
   "pygments_lexer": "ipython3",
   "version": "3.6.9"
  }
 },
 "nbformat": 4,
 "nbformat_minor": 2
}
