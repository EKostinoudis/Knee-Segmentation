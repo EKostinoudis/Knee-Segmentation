{
 "cells": [
  {
   "cell_type": "code",
   "execution_count": null,
   "metadata": {},
   "outputs": [],
   "source": [
    "import os\n",
    "import matplotlib.pyplot as plt\n",
    "import numpy as np\n",
    "from collections import defaultdict\n",
    "\n",
    "\n",
    "def getTimesDict(resultsDir):\n",
    "    # Find all output folder\n",
    "    outputDirs = []\n",
    "    for fname in os.listdir(resultsDir):\n",
    "        path = os.path.join(resultsDir, fname)\n",
    "        if os.path.isdir(path):\n",
    "            outputDirs.append(path)\n",
    "\n",
    "    # sort the list in order to match the testData.txt order\n",
    "    outputDirs.sort()\n",
    "\n",
    "    # Read all dice.txt files\n",
    "    timeData = []\n",
    "    for outputDir in outputDirs:\n",
    "        timeFile = os.path.join(outputDir, \"time.txt\")\n",
    "        with open(timeFile, \"r\") as f:\n",
    "            timeData.append(f.read())\n",
    "\n",
    "    dictTimes = defaultdict(list)\n",
    "    for data in timeData:\n",
    "        for line in data.split('\\n'):\n",
    "            col = line.find(\":\")\n",
    "            if not (line[:col]).isdigit() and (line[:col]) != '':\n",
    "                key = line[:col].strip()\n",
    "                value = float(line[col+1:].strip())\n",
    "                dictTimes[key].append(value)\n",
    "    return dictTimes\n"
   ]
  },
  {
   "cell_type": "code",
   "execution_count": null,
   "metadata": {},
   "outputs": [],
   "source": [
    "resultsDir = \"AAAAAAAAAAAAAAAAAAAAAAAAA/SPBMtime2021_03_27_02_52_00\"\n",
    "SPBMdict = getTimesDict(resultsDir)\n",
    "\n",
    "resultsDir = \"AAAAAAAAAAAAAAAAAAAAAAAAA/SRCtime2021_03_27_17_18_00\"\n",
    "SRCdict = getTimesDict(resultsDir)\n",
    "\n",
    "resultsDir = \"AAAAAAAAAAAAAAAAAAAAAAAAA/SPEPtime2021_03_28_04_04_45\"\n",
    "SPEPdict = getTimesDict(resultsDir)"
   ]
  },
  {
   "cell_type": "code",
   "execution_count": null,
   "metadata": {
    "scrolled": false
   },
   "outputs": [],
   "source": [
    "keysToTitle = {'Registration': 'Registration time',\n",
    "               'Data preparation': 'Data preparation time',\n",
    "               'Segmentation': 'Segmentation time',\n",
    "               'Total time': 'Total time'}\n",
    "keys = SPBMdict.keys()\n",
    "for key in keys:\n",
    "    plt.figure(dpi=150)\n",
    "    plt.boxplot([SPBMdict[key], SRCdict[key], SPEPdict[key]], labels=['SPBM', 'SRC', 'PBSEP'])\n",
    "    plt.title(f\"{keysToTitle[key]}\")\n",
    "    plt.xlabel(\"Method\")\n",
    "    plt.ylabel(\"Seconds\")\n",
    "    plt.show()\n",
    "    \n"
   ]
  },
  {
   "cell_type": "code",
   "execution_count": null,
   "metadata": {
    "scrolled": false
   },
   "outputs": [],
   "source": [
    "keysToTitle = {'Registration': 'Registration time',\n",
    "               'Data preparation': 'Data preparation time',\n",
    "               'Segmentation': 'Segmentation time',\n",
    "               'Total time': 'Total time'}\n",
    "keys = SPBMdict.keys()\n",
    "for key in keys:\n",
    "    fig, ax1 = plt.subplots(dpi=300)\n",
    "    # plt.figure(dpi=150)\n",
    "    plt.boxplot([SPBMdict[key], SRCdict[key], SPEPdict[key]], labels=['SPBM', 'SRC', 'PBSEP'])\n",
    "    plt.title(f\"{keysToTitle[key]}\")\n",
    "    plt.xlabel(\"Method\")\n",
    "    plt.ylabel(\"Seconds\")\n",
    "    plt.show()\n",
    "    fig.savefig(f\"thesis/images/{keysToTitle[key].replace(' ', '_')}_plot.png\")\n",
    "    print(f\"{keysToTitle[key].replace(' ', '_')}_plot.png\")\n"
   ]
  },
  {
   "cell_type": "code",
   "execution_count": null,
   "metadata": {},
   "outputs": [],
   "source": [
    "SPBMdict['Total time']"
   ]
  },
  {
   "cell_type": "code",
   "execution_count": null,
   "metadata": {},
   "outputs": [],
   "source": []
  }
 ],
 "metadata": {
  "kernelspec": {
   "display_name": "Python 3",
   "language": "python",
   "name": "python3"
  },
  "language_info": {
   "codemirror_mode": {
    "name": "ipython",
    "version": 3
   },
   "file_extension": ".py",
   "mimetype": "text/x-python",
   "name": "python",
   "nbconvert_exporter": "python",
   "pygments_lexer": "ipython3",
   "version": "3.6.9"
  }
 },
 "nbformat": 4,
 "nbformat_minor": 2
}
