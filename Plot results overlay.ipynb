{
 "cells": [
  {
   "cell_type": "code",
   "execution_count": null,
   "metadata": {},
   "outputs": [],
   "source": [
    "import os\n",
    "import matplotlib.pyplot as plt\n",
    "import numpy as np\n",
    "from collections import defaultdict\n",
    "\n",
    "\n",
    "def getDiceData(resultsDir, searchString, startString):\n",
    "    # Find all output folder\n",
    "    outputDirs = []\n",
    "    for fname in os.listdir(resultsDir):\n",
    "        path = os.path.join(resultsDir, fname)\n",
    "        if os.path.isdir(path):\n",
    "            outputDirs.append(path)\n",
    "\n",
    "    # sort the list in order to match the testData.txt order\n",
    "    outputDirs.sort()\n",
    "    \n",
    "    dataFile = open(os.path.join(resultsDir, \"data.txt\"), 'r')\n",
    "    associatedFile = dataFile.read().split('\\n')\n",
    "    dataFile.close()\n",
    "\n",
    "    # Read all dice.txt files\n",
    "    diceData = []\n",
    "    for outputDir in outputDirs:\n",
    "        # print(outputDir)\n",
    "        diceFile = os.path.join(outputDir, \"dice.txt\")\n",
    "        with open(diceFile, \"r\") as f:\n",
    "            foundIt = False\n",
    "            for line in f.read().split('\\n'):\n",
    "                if searchString in line:\n",
    "                    foundIt = True\n",
    "                    # imageIndex = int(line.split(':')[0])\n",
    "                    imageIndex = (line.split(':')[0]).strip()\n",
    "                if foundIt and line.startswith(startString):\n",
    "                    diceData.append((imageIndex,\n",
    "                                     int(outputDir.split('/')[-1]),\n",
    "                                     associatedFile[int(outputDir.split('/')[-1])], \n",
    "                                     [float(num) for num in (line[line.find(' ')+1:]).strip('][').split(', ')]))\n",
    "                    break\n",
    "        \n",
    "    return diceData\n",
    "\n"
   ]
  },
  {
   "cell_type": "code",
   "execution_count": null,
   "metadata": {},
   "outputs": [],
   "source": [
    "resultsDir = \"AAAAAAAAAAAAAAAAAAAAAAAAA/Leave1OutSPBMatlases2021_01_24_22_48_13\"\n",
    "SPBMdata = getDiceData(resultsDir, 'Atlases: 9, ', 'SPBM')\n",
    "\n",
    "resultsDir = \"AAAAAAAAAAAAAAAAAAAAAAAAA/Leave1OutSRC_atlases2021_03_23_18_09_02\"\n",
    "SRCdata = getDiceData(resultsDir, 'Atlases: 9, ', 'SRC')\n",
    "\n",
    "resultsDir = \"AAAAAAAAAAAAAAAAAAAAAAAAA/SPEPleaveOneOut_atlases2021_03_24_18_08_07\"\n",
    "SPEPdata = getDiceData(resultsDir, 'Atlases: 9, ', 'SPEP')"
   ]
  },
  {
   "cell_type": "code",
   "execution_count": null,
   "metadata": {},
   "outputs": [],
   "source": [
    "SPBMsorted = sorted(SPBMdata, key=lambda x: x[3][2])\n",
    "SRCsorted = sorted(SRCdata, key=lambda x: x[3][2])\n",
    "SPEPsorted = sorted(SPEPdata, key=lambda x: x[3][2])"
   ]
  },
  {
   "cell_type": "code",
   "execution_count": null,
   "metadata": {},
   "outputs": [],
   "source": []
  }
 ],
 "metadata": {
  "kernelspec": {
   "display_name": "Python 3",
   "language": "python",
   "name": "python3"
  },
  "language_info": {
   "codemirror_mode": {
    "name": "ipython",
    "version": 3
   },
   "file_extension": ".py",
   "mimetype": "text/x-python",
   "name": "python",
   "nbconvert_exporter": "python",
   "pygments_lexer": "ipython3",
   "version": "3.6.9"
  }
 },
 "nbformat": 4,
 "nbformat_minor": 2
}
